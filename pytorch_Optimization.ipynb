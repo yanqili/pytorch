{
 "cells": [
  {
   "cell_type": "markdown",
   "metadata": {},
   "source": [
    "# 一、梯度下降原理"
   ]
  },
  {
   "cell_type": "markdown",
   "metadata": {},
   "source": [
    "## 1、为什么负梯度方向是最快下降方向"
   ]
  },
  {
   "cell_type": "markdown",
   "metadata": {},
   "source": [
    "参考1：[为什么局部下降最快的方向就是梯度的负方向？](https://blog.csdn.net/red_stone1/article/details/80212814)\n",
    "\n",
    "从泰勒一阶展开式的角度，推导了，当下降方向与梯度方向相反时，函数值会下降，且是下降的最大方向"
   ]
  },
  {
   "cell_type": "markdown",
   "metadata": {},
   "source": [
    "$f(\\theta)-f\\left(\\theta_{0}\\right) \\approx \\eta v \\cdot \\nabla f\\left(\\theta_{0}\\right)<0$"
   ]
  },
  {
   "cell_type": "markdown",
   "metadata": {},
   "source": [
    "$\\eta$为标量，表示步进长度。在$\\eta$一定时，只有当v与 $\\nabla f\\left(\\theta_{0}\\right)$ 完全相反方向时，不仅保证值是负值，且值最大。"
   ]
  },
  {
   "cell_type": "markdown",
   "metadata": {},
   "source": [
    "参考2：[机器学习－梯度下降算法](http://www.hanlongfei.com/%E6%9C%BA%E5%99%A8%E5%AD%A6%E4%B9%A0/2015/07/29/gradient/)\n",
    "这是一个在CMU读书的学生的博客，感觉国外的教学h\n",
    "\n",
    "从方向导数求极值的角度，证明了方向导数的极值等于函数在该点梯度的范数，感觉这里的推导更严谨一些"
   ]
  },
  {
   "cell_type": "code",
   "execution_count": null,
   "metadata": {},
   "outputs": [],
   "source": []
  }
 ],
 "metadata": {
  "kernelspec": {
   "display_name": "Python 3",
   "language": "python",
   "name": "python3"
  },
  "language_info": {
   "codemirror_mode": {
    "name": "ipython",
    "version": 3
   },
   "file_extension": ".py",
   "mimetype": "text/x-python",
   "name": "python",
   "nbconvert_exporter": "python",
   "pygments_lexer": "ipython3",
   "version": "3.6.4"
  }
 },
 "nbformat": 4,
 "nbformat_minor": 2
}
