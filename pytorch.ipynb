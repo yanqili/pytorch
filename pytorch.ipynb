{
 "cells": [
  {
   "cell_type": "markdown",
   "metadata": {},
   "source": [
    "# task1 PyTorch的基本概念"
   ]
  },
  {
   "cell_type": "markdown",
   "metadata": {},
   "source": [
    "## 安装"
   ]
  },
  {
   "cell_type": "markdown",
   "metadata": {},
   "source": [
    "参考\n",
    "[WIn10+Anaconda 环境下安装 PyTorch 避坑指南](https://blog.csdn.net/red_stone1/article/details/86669362)"
   ]
  },
  {
   "cell_type": "markdown",
   "metadata": {},
   "source": [
    "```\n",
    "# Python 3.6\n",
    "pip3 install https://download.pytorch.org/whl/cpu/torch-1.0.0-cp36-cp36m-win_amd64.whl\n",
    "pip3 install torchvision\n",
    "```"
   ]
  },
  {
   "cell_type": "markdown",
   "metadata": {},
   "source": [
    "虽然本来安装了anaconda，但是最后还是用pip安装成功的，不过没有出现参考文章中import torchvision 报错的情况，直接就成功了"
   ]
  },
  {
   "cell_type": "markdown",
   "metadata": {},
   "source": [
    "## 简单操作"
   ]
  },
  {
   "cell_type": "code",
   "execution_count": 1,
   "metadata": {},
   "outputs": [],
   "source": [
    "import torch\n",
    "import torchvision\n",
    "from __future__ import print_function"
   ]
  },
  {
   "cell_type": "markdown",
   "metadata": {},
   "source": [
    "创建一个没有初始化的5*3矩阵："
   ]
  },
  {
   "cell_type": "code",
   "execution_count": 2,
   "metadata": {},
   "outputs": [
    {
     "name": "stdout",
     "output_type": "stream",
     "text": [
      "tensor([[0.0000e+00, 0.0000e+00, 0.0000e+00],\n",
      "        [0.0000e+00, 0.0000e+00, 0.0000e+00],\n",
      "        [0.0000e+00, 0.0000e+00, 0.0000e+00],\n",
      "        [0.0000e+00, 1.3340e-42, 0.0000e+00],\n",
      "        [0.0000e+00, 4.4810e+30, 0.0000e+00]])\n"
     ]
    }
   ],
   "source": [
    "x = torch.empty(5, 3)\n",
    "print(x)"
   ]
  },
  {
   "cell_type": "markdown",
   "metadata": {},
   "source": [
    "实现一个只有输入层、单隐藏层、输出层的一个神经网络。假设样本数为64个，输入维度为1000，隐藏层为100，输出层为10。\n",
    "\n",
    "参考[简单神经网络在Numpy和Pytorch上的实现](https://blog.csdn.net/herosunly/article/details/88949873)"
   ]
  },
  {
   "cell_type": "code",
   "execution_count": 3,
   "metadata": {},
   "outputs": [
    {
     "name": "stdout",
     "output_type": "stream",
     "text": [
      "times is 0, loss is 27274294.0\n",
      "times is 1, loss is 20173400.0\n",
      "times is 2, loss is 16992264.0\n",
      "times is 3, loss is 14946633.0\n",
      "times is 4, loss is 12974883.0\n",
      "times is 5, loss is 10754442.0\n",
      "times is 6, loss is 8442926.0\n",
      "times is 7, loss is 6302774.0\n",
      "times is 8, loss is 4544051.0\n",
      "times is 9, loss is 3216244.0\n",
      "times is 10, loss is 2275754.25\n",
      "times is 11, loss is 1629398.875\n",
      "times is 12, loss is 1192330.25\n",
      "times is 13, loss is 895365.75\n",
      "times is 14, loss is 691564.0\n",
      "times is 15, loss is 548771.9375\n",
      "times is 16, loss is 446226.25\n",
      "times is 17, loss is 370414.625\n",
      "times is 18, loss is 312785.09375\n",
      "times is 19, loss is 267841.96875\n",
      "times is 20, loss is 231970.3125\n",
      "times is 21, loss is 202714.015625\n",
      "times is 22, loss is 178443.796875\n",
      "times is 23, loss is 158024.484375\n",
      "times is 24, loss is 140630.625\n",
      "times is 25, loss is 125667.0078125\n",
      "times is 26, loss is 112697.765625\n",
      "times is 27, loss is 101390.515625\n",
      "times is 28, loss is 91466.4375\n",
      "times is 29, loss is 82720.1328125\n",
      "times is 30, loss is 74992.71875\n",
      "times is 31, loss is 68140.140625\n",
      "times is 32, loss is 62029.94140625\n",
      "times is 33, loss is 56562.90625\n",
      "times is 34, loss is 51657.40234375\n",
      "times is 35, loss is 47250.109375\n",
      "times is 36, loss is 43282.66796875\n",
      "times is 37, loss is 39701.3046875\n",
      "times is 38, loss is 36460.4375\n",
      "times is 39, loss is 33521.56640625\n",
      "times is 40, loss is 30853.251953125\n",
      "times is 41, loss is 28427.24609375\n",
      "times is 42, loss is 26216.65625\n",
      "times is 43, loss is 24199.7265625\n",
      "times is 44, loss is 22358.44921875\n",
      "times is 45, loss is 20674.4453125\n",
      "times is 46, loss is 19131.6640625\n",
      "times is 47, loss is 17716.984375\n",
      "times is 48, loss is 16418.939453125\n",
      "times is 49, loss is 15226.5625\n",
      "times is 50, loss is 14129.9609375\n",
      "times is 51, loss is 13120.330078125\n",
      "times is 52, loss is 12190.400390625\n",
      "times is 53, loss is 11333.431640625\n",
      "times is 54, loss is 10542.5556640625\n",
      "times is 55, loss is 9811.775390625\n",
      "times is 56, loss is 9135.732421875\n",
      "times is 57, loss is 8510.2822265625\n",
      "times is 58, loss is 7931.43115234375\n",
      "times is 59, loss is 7395.234375\n",
      "times is 60, loss is 6898.103515625\n",
      "times is 61, loss is 6436.96875\n",
      "times is 62, loss is 6009.25830078125\n",
      "times is 63, loss is 5611.94189453125\n",
      "times is 64, loss is 5242.85546875\n",
      "times is 65, loss is 4899.78515625\n",
      "times is 66, loss is 4580.77978515625\n",
      "times is 67, loss is 4283.91796875\n",
      "times is 68, loss is 4007.53515625\n",
      "times is 69, loss is 3750.104248046875\n",
      "times is 70, loss is 3510.319580078125\n",
      "times is 71, loss is 3286.880859375\n",
      "times is 72, loss is 3078.41748046875\n",
      "times is 73, loss is 2883.8876953125\n",
      "times is 74, loss is 2702.443359375\n",
      "times is 75, loss is 2533.110595703125\n",
      "times is 76, loss is 2374.9697265625\n",
      "times is 77, loss is 2227.2548828125\n",
      "times is 78, loss is 2089.277099609375\n",
      "times is 79, loss is 1960.223388671875\n",
      "times is 80, loss is 1839.5428466796875\n",
      "times is 81, loss is 1726.67529296875\n",
      "times is 82, loss is 1621.0714111328125\n",
      "times is 83, loss is 1522.239990234375\n",
      "times is 84, loss is 1429.7177734375\n",
      "times is 85, loss is 1343.1181640625\n",
      "times is 86, loss is 1261.958251953125\n",
      "times is 87, loss is 1185.917724609375\n",
      "times is 88, loss is 1114.642822265625\n",
      "times is 89, loss is 1047.8326416015625\n",
      "times is 90, loss is 985.208740234375\n",
      "times is 91, loss is 926.4814453125\n",
      "times is 92, loss is 871.3999633789062\n",
      "times is 93, loss is 819.729248046875\n",
      "times is 94, loss is 771.218017578125\n",
      "times is 95, loss is 725.679931640625\n",
      "times is 96, loss is 682.94287109375\n",
      "times is 97, loss is 642.8109130859375\n",
      "times is 98, loss is 605.1282958984375\n",
      "times is 99, loss is 569.7386474609375\n"
     ]
    }
   ],
   "source": [
    "num_samples = 64 # N\n",
    "dim_in, dim_hid, dim_out = 1000, 100, 10  # IN H OUT\n",
    "x = torch.randn(num_samples, dim_in)  #  N * IN\n",
    "y = torch.randn(num_samples, dim_out) #  N * OUT\n",
    "\n",
    "w1 = torch.randn(dim_in, dim_hid)     # IN * H\n",
    "w2 = torch.randn(dim_hid, dim_out)    #  H * OUT\n",
    "\n",
    "eta = 1e-6\n",
    "for i in range(100):\n",
    "    #Forward pass\n",
    "    h = x @ w1                              # N * H\n",
    "    h_relu = h.clamp(min = 0)               # N * H\n",
    "    y_pred = h_relu @ w2                    # N * OUT\n",
    "\n",
    "    #Loss\n",
    "    loss = (y_pred - y).pow(2).sum().item()\n",
    "    print('times is {}, loss is {}'.format(i, loss))\n",
    "\n",
    "    #Backward pass\n",
    "    grad_y_pred = 2.0 * (y_pred - y)        # N * OUT\n",
    "    grad_w2 = (h_relu.t()) @ (grad_y_pred) #H * OUT = (H * N) * (N * OUT)，其中(H * N) = (N * H).T\n",
    "\n",
    "    grad_h_relu = grad_y_pred @ ((w2.t()))# N * H = (N * OUT) * (OUT * H)，其中(OUT * H) = (H * OUT).T\n",
    "    grad_h = grad_h_relu.clone()\n",
    "    grad_h[h < 0] = 0\n",
    "\n",
    "    grad_w1 = (x.t()) @ (grad_h)  # IN * H = （IN * N） * (N * H)\n",
    "\n",
    "    w1 = w1 - eta * grad_w1\n",
    "    w2 = w2 - eta * grad_w2"
   ]
  },
  {
   "cell_type": "markdown",
   "metadata": {
    "collapsed": true
   },
   "source": [
    "# task2 设立计算图并自动计算"
   ]
  },
  {
   "cell_type": "markdown",
   "metadata": {},
   "source": [
    "## 一、线性回归 y = w1*x1 + w2*x2"
   ]
  },
  {
   "cell_type": "code",
   "execution_count": 4,
   "metadata": {},
   "outputs": [],
   "source": [
    "w1 = 4\n",
    "w2 = -3"
   ]
  },
  {
   "cell_type": "markdown",
   "metadata": {},
   "source": [
    "${loss}=\\frac{1}{2n}\\sum_{i=1}^{n}\\left(\\hat{y}_{i}-y_{i}\\right)^{2}$"
   ]
  },
  {
   "cell_type": "markdown",
   "metadata": {},
   "source": [
    "$\\frac{dloss}{d w_{1}}=\\frac{1}{n}\\sum_{i=1}^{n}\\left(\\hat{y}_{i}-y_{i}\\right) \\cdot x_{1_{i}}$"
   ]
  },
  {
   "cell_type": "markdown",
   "metadata": {},
   "source": [
    "$\\frac{dloss}{d w_{2}}=\\frac{1}{n}\\sum_{i=1}^{n}\\left(\\hat{y}_{i}-y_{i}\\right) \\cdot x_{2_{i}}$"
   ]
  },
  {
   "cell_type": "markdown",
   "metadata": {},
   "source": [
    "### 1、numpy方式"
   ]
  },
  {
   "cell_type": "code",
   "execution_count": 5,
   "metadata": {},
   "outputs": [],
   "source": [
    "import numpy as np\n",
    "import matplotlib.pyplot as plt"
   ]
  },
  {
   "cell_type": "code",
   "execution_count": 6,
   "metadata": {},
   "outputs": [],
   "source": [
    "x_data = np.array([[1,2,3],\n",
    "                   [3,1,2]])\n",
    "y_data = w1 * x_data[0] + w2 * x_data[1]"
   ]
  },
  {
   "cell_type": "code",
   "execution_count": 7,
   "metadata": {},
   "outputs": [
    {
     "data": {
      "text/plain": [
       "array([-5,  5,  6])"
      ]
     },
     "execution_count": 7,
     "metadata": {},
     "output_type": "execute_result"
    }
   ],
   "source": [
    "y_data"
   ]
  },
  {
   "cell_type": "code",
   "execution_count": 8,
   "metadata": {},
   "outputs": [],
   "source": [
    "epochs = 10\n",
    "rate = 0.1\n",
    "w1_ = 0\n",
    "w2_ = 0\n",
    "cost = []"
   ]
  },
  {
   "cell_type": "code",
   "execution_count": 9,
   "metadata": {},
   "outputs": [
    {
     "name": "stdout",
     "output_type": "stream",
     "text": [
      "0.7666666666666667 0.06666666666666667\n",
      "1.1511111111111112 -0.17888888888888888\n",
      "1.4461851851851852 -0.4508148148148148\n",
      "1.7032641975308642 -0.7040358024691358\n",
      "1.9332206995884773 -0.9333493004115226\n",
      "2.1399457832647464 -1.1399672167352537\n",
      "2.3259590638774577 -1.3259626361225423\n",
      "2.4933644673129094 -1.4933650626870905\n",
      "2.6440282388854848 -1.6440283381145149\n",
      "2.7796254513809138 -1.7796254679190857\n"
     ]
    }
   ],
   "source": [
    "for epoch in range(epochs):\n",
    "    y_ = w1_ * x_data[0] + w2_ * x_data[1]\n",
    "    #print(y_)\n",
    "    #计算损失\n",
    "    loss = np.average((y_ - y_data)**2)/2.0\n",
    "    cost.append(loss)\n",
    "    \n",
    "    #计算梯度\n",
    "    dw1 = (y_ - y_data) @ x_data[0].T/(x_data.shape[1])\n",
    "    dw2 = (y_ - y_data) @ x_data[1].T/(x_data.shape[1])\n",
    "    #print(dw1,dw2)\n",
    "    #参数更新\n",
    "    w1_ = w1_ - rate * dw1\n",
    "    w2_ = w2_ - rate * dw2\n",
    "    print(w1_,w2_)"
   ]
  },
  {
   "cell_type": "code",
   "execution_count": 10,
   "metadata": {},
   "outputs": [
    {
     "data": {
      "image/png": "[encoded data removed]",
      "text/plain": [
       "<matplotlib.figure.Figure at 0x1a55bdaf550>"
      ]
     },
     "metadata": {},
     "output_type": "display_data"
    }
   ],
   "source": [
    "plt.figure()\n",
    "plt.plot(range(epochs), cost)\n",
    "plt.title(u\"loss change\")\n",
    "plt.show()"
   ]
  },
  {
   "cell_type": "markdown",
   "metadata": {},
   "source": [
    "### 2、torch 方式"
   ]
  },
  {
   "cell_type": "code",
   "execution_count": 11,
   "metadata": {},
   "outputs": [],
   "source": [
    "from torch.autograd import Variable"
   ]
  },
  {
   "cell_type": "code",
   "execution_count": 12,
   "metadata": {},
   "outputs": [
    {
     "data": {
      "text/plain": [
       "<torch._C.Generator at 0x1a55846d7f0>"
      ]
     },
     "execution_count": 12,
     "metadata": {},
     "output_type": "execute_result"
    }
   ],
   "source": [
    "torch.manual_seed(2)"
   ]
  },
  {
   "cell_type": "code",
   "execution_count": 13,
   "metadata": {
    "scrolled": true
   },
   "outputs": [],
   "source": [
    "x_data = Variable(torch.Tensor([[1.0,3.0],[2.0,1.0],[3.0,2.0]]))\n",
    "y_data = Variable(torch.Tensor([[-5.0],[5.0],[6.0]]))"
   ]
  },
  {
   "cell_type": "code",
   "execution_count": 14,
   "metadata": {},
   "outputs": [
    {
     "data": {
      "text/plain": [
       "tensor([[1., 3.],\n",
       "        [2., 1.],\n",
       "        [3., 2.]])"
      ]
     },
     "execution_count": 14,
     "metadata": {},
     "output_type": "execute_result"
    }
   ],
   "source": [
    "x_data"
   ]
  },
  {
   "cell_type": "code",
   "execution_count": 15,
   "metadata": {},
   "outputs": [
    {
     "data": {
      "text/plain": [
       "tensor([[-5.],\n",
       "        [ 5.],\n",
       "        [ 6.]])"
      ]
     },
     "execution_count": 15,
     "metadata": {},
     "output_type": "execute_result"
    }
   ],
   "source": [
    "y_data"
   ]
  },
  {
   "cell_type": "code",
   "execution_count": 16,
   "metadata": {},
   "outputs": [],
   "source": [
    "epochs = 10\n",
    "rate = 0.1\n",
    "w = Variable(torch.FloatTensor([[0],[0]]))\n",
    "w.requires_grad_(True)\n",
    "cost = []"
   ]
  },
  {
   "cell_type": "code",
   "execution_count": 17,
   "metadata": {},
   "outputs": [
    {
     "name": "stdout",
     "output_type": "stream",
     "text": [
      "tensor([[0.7667],\n",
      "        [0.0667]])\n",
      "tensor([[ 1.1511],\n",
      "        [-0.1789]])\n",
      "tensor([[ 1.4462],\n",
      "        [-0.4508]])\n",
      "tensor([[ 1.7033],\n",
      "        [-0.7040]])\n",
      "tensor([[ 1.9332],\n",
      "        [-0.9333]])\n",
      "tensor([[ 2.1399],\n",
      "        [-1.1400]])\n",
      "tensor([[ 2.3260],\n",
      "        [-1.3260]])\n",
      "tensor([[ 2.4934],\n",
      "        [-1.4934]])\n",
      "tensor([[ 2.6440],\n",
      "        [-1.6440]])\n",
      "tensor([[ 2.7796],\n",
      "        [-1.7796]])\n"
     ]
    }
   ],
   "source": [
    "for epoch in range(epochs):\n",
    "    y_ = x_data.mm(w)\n",
    "    #print(y_)\n",
    "    loss = ((y_ - y_data)**2).mean()/2.0\n",
    "    cost.append(float(loss.data))\n",
    "    loss.backward()\n",
    "    w.data = w.data - rate * w.grad.data\n",
    "    \n",
    "    #print(w.grad.data)\n",
    "    #这一步很关键，必须清零，因为 .grad这个属性值是累加的\n",
    "    w.grad.data.zero_()\n",
    "    print(w.data)"
   ]
  },
  {
   "cell_type": "code",
   "execution_count": 18,
   "metadata": {
    "scrolled": false
   },
   "outputs": [
    {
     "data": {
      "image/png": "[encoded data removed]",
      "text/plain": [
       "<matplotlib.figure.Figure at 0x1a55be4b780>"
      ]
     },
     "metadata": {},
     "output_type": "display_data"
    }
   ],
   "source": [
    "plt.figure()\n",
    "plt.plot(range(epochs), cost)\n",
    "plt.title(u\"loss change\")\n",
    "plt.show()"
   ]
  },
  {
   "cell_type": "markdown",
   "metadata": {},
   "source": [
    "# task3 PyTorch实现Logistic regression"
   ]
  },
  {
   "cell_type": "markdown",
   "metadata": {},
   "source": [
    "参考[Pytorch实现逻辑回归](https://blog.csdn.net/herosunly/article/details/89130368)"
   ]
  },
  {
   "cell_type": "markdown",
   "metadata": {},
   "source": [
    "## 公式推导"
   ]
  },
  {
   "cell_type": "markdown",
   "metadata": {},
   "source": [
    "$\\hat{y}_{i}=\\frac{1}{1+e^{-\\left(w \\cdot x_{i}+b\\right)}}$"
   ]
  },
  {
   "cell_type": "markdown",
   "metadata": {},
   "source": [
    "极大似然思想\n",
    "\n",
    "$maxL=\\prod_{i=1}^{N} \\hat{y}_{i}^{y_{i}} \\cdot\\left(1-\\hat{y}_{i}\\right)^{\\left(1-{y_{i}}\\right)}$"
   ]
  },
  {
   "cell_type": "markdown",
   "metadata": {},
   "source": [
    "$max\\ln L=\\sum_{i=1}^{N} y_{i} \\ln \\hat{y}_{i}+\\left(1-y_{i}\\right) \\ln \\left(1-\\hat{y}_{i}\\right)$"
   ]
  },
  {
   "cell_type": "markdown",
   "metadata": {},
   "source": [
    "$\\max \\ln L=\\min(-\\ln L)$"
   ]
  },
  {
   "cell_type": "markdown",
   "metadata": {},
   "source": [
    "## 一、PyTorch基础实现代码"
   ]
  },
  {
   "cell_type": "code",
   "execution_count": 150,
   "metadata": {},
   "outputs": [
    {
     "data": {
      "text/plain": [
       "<torch._C.Generator at 0x1a55846d7f0>"
      ]
     },
     "execution_count": 150,
     "metadata": {},
     "output_type": "execute_result"
    }
   ],
   "source": [
    "import torch\n",
    "import random\n",
    "import numpy as np\n",
    "import matplotlib.pyplot as plt\n",
    "import torch.nn as nn\n",
    "\n",
    "seed = 1\n",
    "\n",
    "random.seed(seed)\n",
    "np.random.seed(seed)\n",
    "torch.manual_seed(seed)"
   ]
  },
  {
   "cell_type": "code",
   "execution_count": 86,
   "metadata": {},
   "outputs": [],
   "source": [
    "x_data = torch.Tensor([[0.1,0.3],[0.2,0.6],[0.2,0.8],[0.4,0.7],[0.4,0.2],[0.6,0.4],[0.6,0.6],[0.8,0.8],[1,0.4]])\n",
    "y_data = torch.Tensor([[1],[1],[1],[1],[0],[0],[0],[0],[0]])"
   ]
  },
  {
   "cell_type": "code",
   "execution_count": 92,
   "metadata": {},
   "outputs": [
    {
     "data": {
      "image/png": "[encoded data removed]",
      "text/plain": [
       "<matplotlib.figure.Figure at 0x1a55d478908>"
      ]
     },
     "metadata": {},
     "output_type": "display_data"
    }
   ],
   "source": [
    "plt.figure()\n",
    "plt.scatter(x_data.data.numpy()[:, 0], x_data.data.numpy()[:, 1], c=y_data.data.numpy().reshape(1,9)[0], s=100, cmap='RdYlGn')\n",
    "plt.show()"
   ]
  },
  {
   "cell_type": "markdown",
   "metadata": {},
   "source": [
    "#### 用torch来构造随机数据"
   ]
  },
  {
   "cell_type": "code",
   "execution_count": 180,
   "metadata": {},
   "outputs": [],
   "source": [
    "center_data = torch.ones(100, 2)\n",
    "x0 = torch.normal(mean=center_data+2, std=1) #得到正太数据\n",
    "y0 = torch.zeros(center_data.shape[0],1) #设定为 0 label\n",
    "x1 = torch.normal(mean=center_data-2, std=1) #得到正太数据\n",
    "y1 = torch.ones(center_data.shape[0],1) #设定为 1 label\n",
    "x_data = torch.cat((x0,x1),0).type(torch.FloatTensor)\n",
    "y_data = torch.cat((y0,y1),0).type(torch.FloatTensor)"
   ]
  },
  {
   "cell_type": "code",
   "execution_count": 181,
   "metadata": {},
   "outputs": [
    {
     "data": {
      "image/png": "[encoded data removed]",
      "text/plain": [
       "<matplotlib.figure.Figure at 0x1a55d574a20>"
      ]
     },
     "metadata": {},
     "output_type": "display_data"
    }
   ],
   "source": [
    "plt.figure()\n",
    "plt.scatter(x_data.data.numpy()[:, 0], x_data.data.numpy()[:, 1], c=y_data.data.numpy().reshape(1,2*center_data.shape[0])[0], s=100, cmap='RdYlGn')\n",
    "plt.show()"
   ]
  },
  {
   "cell_type": "code",
   "execution_count": 196,
   "metadata": {
    "scrolled": true
   },
   "outputs": [
    {
     "data": {
      "image/png": "[encoded data removed]",
      "text/plain": [
       "<matplotlib.figure.Figure at 0x1a55c13efd0>"
      ]
     },
     "metadata": {},
     "output_type": "display_data"
    }
   ],
   "source": [
    "dim_in = x_data.shape[1] # IN\n",
    "dim_out = 1  # OUT\n",
    "x_data = Variable(x_data)\n",
    "y_data = Variable(y_data)\n",
    "w = torch.randn(dim_in, dim_out, requires_grad=True)     # IN * OUT\n",
    "b = torch.randn(dim_out, requires_grad=True)                  #bias，偏置项\n",
    "\n",
    "eta = 0.1\n",
    "epochs = 100\n",
    "loss_ = []\n",
    "w_ = []\n",
    "for epoch in range(epochs):\n",
    "    #Forward pass\n",
    "    w_.append(w.data)\n",
    "    h = x_data @ w + b  \n",
    "    fun = nn.Sigmoid()\n",
    "    y_pred = fun(h)                                    #sigmod激活函数\n",
    "    #print(y_pred)\n",
    "    #Loss\n",
    "    loss = -torch.sum(y_data * torch.log(y_pred) + (1 - y_data) * torch.log(1 - y_pred)) \n",
    "    #print('epoch is {}, loss is {}'.format(epoch, loss.item()))\n",
    "    loss_.append(float(loss.data))\n",
    "    loss.backward()\n",
    "\n",
    "    w.data = w.data - eta * w.grad.data\n",
    "    b.data = b.data - eta * b.grad.data\n",
    "    \n",
    "    w.grad.data.zero_()\n",
    "    b.grad.data.zero_()\n",
    "    \n",
    "plt.figure()\n",
    "plt.plot(range(epochs), loss_)\n",
    "plt.title(u\"loss change\")\n",
    "plt.show()"
   ]
  },
  {
   "cell_type": "code",
   "execution_count": 198,
   "metadata": {},
   "outputs": [
    {
     "data": {
      "text/plain": [
       "[tensor([[-0.6953],\n",
       "         [-0.3675]]), tensor([[-3.9381],\n",
       "         [-4.6498]]), tensor([[nan],\n",
       "         [nan]]), tensor([[nan],\n",
       "         [nan]]), tensor([[nan],\n",
       "         [nan]]), tensor([[nan],\n",
       "         [nan]]), tensor([[nan],\n",
       "         [nan]]), tensor([[nan],\n",
       "         [nan]]), tensor([[nan],\n",
       "         [nan]]), tensor([[nan],\n",
       "         [nan]]), tensor([[nan],\n",
       "         [nan]]), tensor([[nan],\n",
       "         [nan]]), tensor([[nan],\n",
       "         [nan]]), tensor([[nan],\n",
       "         [nan]]), tensor([[nan],\n",
       "         [nan]]), tensor([[nan],\n",
       "         [nan]]), tensor([[nan],\n",
       "         [nan]]), tensor([[nan],\n",
       "         [nan]]), tensor([[nan],\n",
       "         [nan]]), tensor([[nan],\n",
       "         [nan]]), tensor([[nan],\n",
       "         [nan]]), tensor([[nan],\n",
       "         [nan]]), tensor([[nan],\n",
       "         [nan]]), tensor([[nan],\n",
       "         [nan]]), tensor([[nan],\n",
       "         [nan]]), tensor([[nan],\n",
       "         [nan]]), tensor([[nan],\n",
       "         [nan]]), tensor([[nan],\n",
       "         [nan]]), tensor([[nan],\n",
       "         [nan]]), tensor([[nan],\n",
       "         [nan]]), tensor([[nan],\n",
       "         [nan]]), tensor([[nan],\n",
       "         [nan]]), tensor([[nan],\n",
       "         [nan]]), tensor([[nan],\n",
       "         [nan]]), tensor([[nan],\n",
       "         [nan]]), tensor([[nan],\n",
       "         [nan]]), tensor([[nan],\n",
       "         [nan]]), tensor([[nan],\n",
       "         [nan]]), tensor([[nan],\n",
       "         [nan]]), tensor([[nan],\n",
       "         [nan]]), tensor([[nan],\n",
       "         [nan]]), tensor([[nan],\n",
       "         [nan]]), tensor([[nan],\n",
       "         [nan]]), tensor([[nan],\n",
       "         [nan]]), tensor([[nan],\n",
       "         [nan]]), tensor([[nan],\n",
       "         [nan]]), tensor([[nan],\n",
       "         [nan]]), tensor([[nan],\n",
       "         [nan]]), tensor([[nan],\n",
       "         [nan]]), tensor([[nan],\n",
       "         [nan]]), tensor([[nan],\n",
       "         [nan]]), tensor([[nan],\n",
       "         [nan]]), tensor([[nan],\n",
       "         [nan]]), tensor([[nan],\n",
       "         [nan]]), tensor([[nan],\n",
       "         [nan]]), tensor([[nan],\n",
       "         [nan]]), tensor([[nan],\n",
       "         [nan]]), tensor([[nan],\n",
       "         [nan]]), tensor([[nan],\n",
       "         [nan]]), tensor([[nan],\n",
       "         [nan]]), tensor([[nan],\n",
       "         [nan]]), tensor([[nan],\n",
       "         [nan]]), tensor([[nan],\n",
       "         [nan]]), tensor([[nan],\n",
       "         [nan]]), tensor([[nan],\n",
       "         [nan]]), tensor([[nan],\n",
       "         [nan]]), tensor([[nan],\n",
       "         [nan]]), tensor([[nan],\n",
       "         [nan]]), tensor([[nan],\n",
       "         [nan]]), tensor([[nan],\n",
       "         [nan]]), tensor([[nan],\n",
       "         [nan]]), tensor([[nan],\n",
       "         [nan]]), tensor([[nan],\n",
       "         [nan]]), tensor([[nan],\n",
       "         [nan]]), tensor([[nan],\n",
       "         [nan]]), tensor([[nan],\n",
       "         [nan]]), tensor([[nan],\n",
       "         [nan]]), tensor([[nan],\n",
       "         [nan]]), tensor([[nan],\n",
       "         [nan]]), tensor([[nan],\n",
       "         [nan]]), tensor([[nan],\n",
       "         [nan]]), tensor([[nan],\n",
       "         [nan]]), tensor([[nan],\n",
       "         [nan]]), tensor([[nan],\n",
       "         [nan]]), tensor([[nan],\n",
       "         [nan]]), tensor([[nan],\n",
       "         [nan]]), tensor([[nan],\n",
       "         [nan]]), tensor([[nan],\n",
       "         [nan]]), tensor([[nan],\n",
       "         [nan]]), tensor([[nan],\n",
       "         [nan]]), tensor([[nan],\n",
       "         [nan]]), tensor([[nan],\n",
       "         [nan]]), tensor([[nan],\n",
       "         [nan]]), tensor([[nan],\n",
       "         [nan]]), tensor([[nan],\n",
       "         [nan]]), tensor([[nan],\n",
       "         [nan]]), tensor([[nan],\n",
       "         [nan]]), tensor([[nan],\n",
       "         [nan]]), tensor([[nan],\n",
       "         [nan]]), tensor([[nan],\n",
       "         [nan]])]"
      ]
     },
     "execution_count": 198,
     "metadata": {},
     "output_type": "execute_result"
    }
   ],
   "source": [
    "w_"
   ]
  },
  {
   "cell_type": "code",
   "execution_count": 197,
   "metadata": {},
   "outputs": [
    {
     "data": {
      "text/plain": [
       "[71.1711654663086,\n",
       " nan,\n",
       " nan,\n",
       " nan,\n",
       " nan,\n",
       " nan,\n",
       " nan,\n",
       " nan,\n",
       " nan,\n",
       " nan,\n",
       " nan,\n",
       " nan,\n",
       " nan,\n",
       " nan,\n",
       " nan,\n",
       " nan,\n",
       " nan,\n",
       " nan,\n",
       " nan,\n",
       " nan,\n",
       " nan,\n",
       " nan,\n",
       " nan,\n",
       " nan,\n",
       " nan,\n",
       " nan,\n",
       " nan,\n",
       " nan,\n",
       " nan,\n",
       " nan,\n",
       " nan,\n",
       " nan,\n",
       " nan,\n",
       " nan,\n",
       " nan,\n",
       " nan,\n",
       " nan,\n",
       " nan,\n",
       " nan,\n",
       " nan,\n",
       " nan,\n",
       " nan,\n",
       " nan,\n",
       " nan,\n",
       " nan,\n",
       " nan,\n",
       " nan,\n",
       " nan,\n",
       " nan,\n",
       " nan,\n",
       " nan,\n",
       " nan,\n",
       " nan,\n",
       " nan,\n",
       " nan,\n",
       " nan,\n",
       " nan,\n",
       " nan,\n",
       " nan,\n",
       " nan,\n",
       " nan,\n",
       " nan,\n",
       " nan,\n",
       " nan,\n",
       " nan,\n",
       " nan,\n",
       " nan,\n",
       " nan,\n",
       " nan,\n",
       " nan,\n",
       " nan,\n",
       " nan,\n",
       " nan,\n",
       " nan,\n",
       " nan,\n",
       " nan,\n",
       " nan,\n",
       " nan,\n",
       " nan,\n",
       " nan,\n",
       " nan,\n",
       " nan,\n",
       " nan,\n",
       " nan,\n",
       " nan,\n",
       " nan,\n",
       " nan,\n",
       " nan,\n",
       " nan,\n",
       " nan,\n",
       " nan,\n",
       " nan,\n",
       " nan,\n",
       " nan,\n",
       " nan,\n",
       " nan,\n",
       " nan,\n",
       " nan,\n",
       " nan,\n",
       " nan]"
      ]
     },
     "execution_count": 197,
     "metadata": {},
     "output_type": "execute_result"
    }
   ],
   "source": [
    "loss_"
   ]
  },
  {
   "cell_type": "code",
   "execution_count": 183,
   "metadata": {},
   "outputs": [
    {
     "data": {
      "image/png": "[encoded data removed]",
      "text/plain": [
       "<matplotlib.figure.Figure at 0x1a55bf94358>"
      ]
     },
     "metadata": {},
     "output_type": "display_data"
    }
   ],
   "source": [
    "dim_in = x_data.shape[1] # IN\n",
    "dim_out = 1  # OUT\n",
    "\n",
    "#w = torch.randn(dim_in, dim_out, requires_grad=True)     # IN * OUT\n",
    "b = torch.randn(dim_out, requires_grad=True)                  #bias，偏置项\n",
    "\n",
    "w = Variable(torch.FloatTensor([[10],[-4]]))\n",
    "w.requires_grad_(True)\n",
    "eta = 0.1\n",
    "epochs = 1000\n",
    "loss_ = []\n",
    "w_ = []\n",
    "for epoch in range(epochs):\n",
    "    #Forward pass\n",
    "    w_.append(w.data)\n",
    "    h = x_data @ w + b                                                    \n",
    "    y_pred = 1 / (1 + torch.exp(-h))                                    #sigmod激活函数\n",
    "\n",
    "    #Loss\n",
    "    loss = -torch.sum(y_data * torch.log(y_pred) + (1 - y_data) * torch.log(1 - y_pred)) \n",
    "    #print('epoch is {}, loss is {}'.format(epoch, loss.item()))\n",
    "    loss_.append(float(loss.data))\n",
    "    loss.backward()\n",
    "\n",
    "    w.data = w.data - eta * w.grad.data\n",
    "    b.data = b.data - eta * b.grad.data\n",
    "    \n",
    "    w.grad.data.zero_()\n",
    "    b.grad.data.zero_()\n",
    "    \n",
    "plt.figure()\n",
    "plt.plot(range(epochs), loss_)\n",
    "plt.title(u\"loss change\")\n",
    "plt.show()"
   ]
  },
  {
   "cell_type": "code",
   "execution_count": 27,
   "metadata": {},
   "outputs": [
    {
     "data": {
      "text/plain": [
       "0.5120936632156372"
      ]
     },
     "execution_count": 27,
     "metadata": {},
     "output_type": "execute_result"
    }
   ],
   "source": [
    "loss_[-1]"
   ]
  },
  {
   "cell_type": "code",
   "execution_count": 28,
   "metadata": {},
   "outputs": [
    {
     "data": {
      "text/plain": [
       "[tensor([[10.],\n",
       "         [-4.]]), tensor([[ 9.6937],\n",
       "         [-4.1385]]), tensor([[ 9.3980],\n",
       "         [-4.2512]]), tensor([[ 9.1132],\n",
       "         [-4.3407]]), tensor([[ 8.8395],\n",
       "         [-4.4094]]), tensor([[ 8.5770],\n",
       "         [-4.4597]]), tensor([[ 8.3257],\n",
       "         [-4.4937]]), tensor([[ 8.0856],\n",
       "         [-4.5129]]), tensor([[ 7.8566],\n",
       "         [-4.5188]]), tensor([[ 7.6383],\n",
       "         [-4.5128]]), tensor([[ 7.4301],\n",
       "         [-4.4961]]), tensor([[ 7.2310],\n",
       "         [-4.4700]]), tensor([[ 7.0402],\n",
       "         [-4.4358]]), tensor([[ 6.8566],\n",
       "         [-4.3948]]), tensor([[ 6.6794],\n",
       "         [-4.3481]]), tensor([[ 6.5075],\n",
       "         [-4.2965]]), tensor([[ 6.3402],\n",
       "         [-4.2411]]), tensor([[ 6.1768],\n",
       "         [-4.1825]]), tensor([[ 6.0167],\n",
       "         [-4.1214]]), tensor([[ 5.8595],\n",
       "         [-4.0583]]), tensor([[ 5.7047],\n",
       "         [-3.9936]]), tensor([[ 5.5520],\n",
       "         [-3.9277]]), tensor([[ 5.4011],\n",
       "         [-3.8608]]), tensor([[ 5.2519],\n",
       "         [-3.7933]]), tensor([[ 5.1042],\n",
       "         [-3.7253]]), tensor([[ 4.9578],\n",
       "         [-3.6569]]), tensor([[ 4.8126],\n",
       "         [-3.5884]]), tensor([[ 4.6686],\n",
       "         [-3.5198]]), tensor([[ 4.5258],\n",
       "         [-3.4512]]), tensor([[ 4.3840],\n",
       "         [-3.3828]]), tensor([[ 4.2434],\n",
       "         [-3.3144]]), tensor([[ 4.1037],\n",
       "         [-3.2463]]), tensor([[ 3.9652],\n",
       "         [-3.1785]]), tensor([[ 3.8277],\n",
       "         [-3.1109]]), tensor([[ 3.6914],\n",
       "         [-3.0437]]), tensor([[ 3.5561],\n",
       "         [-2.9769]]), tensor([[ 3.4220],\n",
       "         [-2.9104]]), tensor([[ 3.2890],\n",
       "         [-2.8443]]), tensor([[ 3.1572],\n",
       "         [-2.7786]]), tensor([[ 3.0266],\n",
       "         [-2.7134]]), tensor([[ 2.8972],\n",
       "         [-2.6487]]), tensor([[ 2.7691],\n",
       "         [-2.5845]]), tensor([[ 2.6423],\n",
       "         [-2.5207]]), tensor([[ 2.5168],\n",
       "         [-2.4574]]), tensor([[ 2.3926],\n",
       "         [-2.3947]]), tensor([[ 2.2697],\n",
       "         [-2.3326]]), tensor([[ 2.1483],\n",
       "         [-2.2709]]), tensor([[ 2.0282],\n",
       "         [-2.2099]]), tensor([[ 1.9095],\n",
       "         [-2.1494]]), tensor([[ 1.7923],\n",
       "         [-2.0895]]), tensor([[ 1.6765],\n",
       "         [-2.0302]]), tensor([[ 1.5622],\n",
       "         [-1.9715]]), tensor([[ 1.4493],\n",
       "         [-1.9135]]), tensor([[ 1.3379],\n",
       "         [-1.8561]]), tensor([[ 1.2280],\n",
       "         [-1.7993]]), tensor([[ 1.1195],\n",
       "         [-1.7431]]), tensor([[ 1.0125],\n",
       "         [-1.6876]]), tensor([[ 0.9070],\n",
       "         [-1.6328]]), tensor([[ 0.8029],\n",
       "         [-1.5786]]), tensor([[ 0.7003],\n",
       "         [-1.5251]]), tensor([[ 0.5992],\n",
       "         [-1.4722]]), tensor([[ 0.4995],\n",
       "         [-1.4200]]), tensor([[ 0.4012],\n",
       "         [-1.3685]]), tensor([[ 0.3044],\n",
       "         [-1.3176]]), tensor([[ 0.2090],\n",
       "         [-1.2674]]), tensor([[ 0.1150],\n",
       "         [-1.2178]]), tensor([[ 0.0223],\n",
       "         [-1.1689]]), tensor([[-0.0690],\n",
       "         [-1.1206]]), tensor([[-0.1589],\n",
       "         [-1.0730]]), tensor([[-0.2475],\n",
       "         [-1.0260]]), tensor([[-0.3349],\n",
       "         [-0.9796]]), tensor([[-0.4209],\n",
       "         [-0.9339]]), tensor([[-0.5057],\n",
       "         [-0.8888]]), tensor([[-0.5892],\n",
       "         [-0.8442]]), tensor([[-0.6715],\n",
       "         [-0.8003]]), tensor([[-0.7526],\n",
       "         [-0.7569]]), tensor([[-0.8326],\n",
       "         [-0.7142]]), tensor([[-0.9113],\n",
       "         [-0.6720]]), tensor([[-0.9890],\n",
       "         [-0.6303]]), tensor([[-1.0655],\n",
       "         [-0.5892]]), tensor([[-1.1410],\n",
       "         [-0.5487]]), tensor([[-1.2154],\n",
       "         [-0.5086]]), tensor([[-1.2888],\n",
       "         [-0.4691]]), tensor([[-1.3611],\n",
       "         [-0.4301]]), tensor([[-1.4324],\n",
       "         [-0.3916]]), tensor([[-1.5028],\n",
       "         [-0.3535]]), tensor([[-1.5722],\n",
       "         [-0.3160]]), tensor([[-1.6407],\n",
       "         [-0.2789]]), tensor([[-1.7083],\n",
       "         [-0.2423]]), tensor([[-1.7749],\n",
       "         [-0.2061]]), tensor([[-1.8407],\n",
       "         [-0.1704]]), tensor([[-1.9057],\n",
       "         [-0.1350]]), tensor([[-1.9698],\n",
       "         [-0.1001]]), tensor([[-2.0331],\n",
       "         [-0.0657]]), tensor([[-2.0956],\n",
       "         [-0.0316]]), tensor([[-2.1573e+00],\n",
       "         [ 2.1199e-03]]), tensor([[-2.2182],\n",
       "         [ 0.0354]]), tensor([[-2.2784],\n",
       "         [ 0.0684]]), tensor([[-2.3379],\n",
       "         [ 0.1009]]), tensor([[-2.3967],\n",
       "         [ 0.1332]]), tensor([[-2.4547],\n",
       "         [ 0.1650]]), tensor([[-2.5121],\n",
       "         [ 0.1965]]), tensor([[-2.5688],\n",
       "         [ 0.2277]]), tensor([[-2.6249],\n",
       "         [ 0.2586]]), tensor([[-2.6803],\n",
       "         [ 0.2891]]), tensor([[-2.7351],\n",
       "         [ 0.3193]]), tensor([[-2.7893],\n",
       "         [ 0.3493]]), tensor([[-2.8429],\n",
       "         [ 0.3789]]), tensor([[-2.8959],\n",
       "         [ 0.4082]]), tensor([[-2.9483],\n",
       "         [ 0.4372]]), tensor([[-3.0002],\n",
       "         [ 0.4660]]), tensor([[-3.0515],\n",
       "         [ 0.4945]]), tensor([[-3.1023],\n",
       "         [ 0.5227]]), tensor([[-3.1525],\n",
       "         [ 0.5506]]), tensor([[-3.2023],\n",
       "         [ 0.5783]]), tensor([[-3.2515],\n",
       "         [ 0.6057]]), tensor([[-3.3002],\n",
       "         [ 0.6329]]), tensor([[-3.3485],\n",
       "         [ 0.6599]]), tensor([[-3.3962],\n",
       "         [ 0.6866]]), tensor([[-3.4435],\n",
       "         [ 0.7130]]), tensor([[-3.4904],\n",
       "         [ 0.7393]]), tensor([[-3.5368],\n",
       "         [ 0.7653]]), tensor([[-3.5827],\n",
       "         [ 0.7911]]), tensor([[-3.6283],\n",
       "         [ 0.8167]]), tensor([[-3.6734],\n",
       "         [ 0.8420]]), tensor([[-3.7180],\n",
       "         [ 0.8672]]), tensor([[-3.7623],\n",
       "         [ 0.8921]]), tensor([[-3.8062],\n",
       "         [ 0.9169]]), tensor([[-3.8497],\n",
       "         [ 0.9415]]), tensor([[-3.8928],\n",
       "         [ 0.9658]]), tensor([[-3.9355],\n",
       "         [ 0.9900]]), tensor([[-3.9779],\n",
       "         [ 1.0140]]), tensor([[-4.0198],\n",
       "         [ 1.0378]]), tensor([[-4.0615],\n",
       "         [ 1.0614]]), tensor([[-4.1027],\n",
       "         [ 1.0849]]), tensor([[-4.1437],\n",
       "         [ 1.1081]]), tensor([[-4.1842],\n",
       "         [ 1.1312]]), tensor([[-4.2245],\n",
       "         [ 1.1542]]), tensor([[-4.2644],\n",
       "         [ 1.1769]]), tensor([[-4.3040],\n",
       "         [ 1.1996]]), tensor([[-4.3433],\n",
       "         [ 1.2220]]), tensor([[-4.3823],\n",
       "         [ 1.2443]]), tensor([[-4.4209],\n",
       "         [ 1.2664]]), tensor([[-4.4593],\n",
       "         [ 1.2884]]), tensor([[-4.4974],\n",
       "         [ 1.3103]]), tensor([[-4.5351],\n",
       "         [ 1.3319]]), tensor([[-4.5726],\n",
       "         [ 1.3535]]), tensor([[-4.6098],\n",
       "         [ 1.3749]]), tensor([[-4.6467],\n",
       "         [ 1.3961]]), tensor([[-4.6834],\n",
       "         [ 1.4173]]), tensor([[-4.7197],\n",
       "         [ 1.4383]]), tensor([[-4.7558],\n",
       "         [ 1.4591]]), tensor([[-4.7917],\n",
       "         [ 1.4798]]), tensor([[-4.8273],\n",
       "         [ 1.5004]]), tensor([[-4.8626],\n",
       "         [ 1.5209]]), tensor([[-4.8977],\n",
       "         [ 1.5412]]), tensor([[-4.9325],\n",
       "         [ 1.5614]]), tensor([[-4.9671],\n",
       "         [ 1.5815]]), tensor([[-5.0015],\n",
       "         [ 1.6015]]), tensor([[-5.0356],\n",
       "         [ 1.6213]]), tensor([[-5.0695],\n",
       "         [ 1.6410]]), tensor([[-5.1031],\n",
       "         [ 1.6606]]), tensor([[-5.1365],\n",
       "         [ 1.6801]]), tensor([[-5.1697],\n",
       "         [ 1.6995]]), tensor([[-5.2027],\n",
       "         [ 1.7188]]), tensor([[-5.2355],\n",
       "         [ 1.7379]]), tensor([[-5.2680],\n",
       "         [ 1.7570]]), tensor([[-5.3004],\n",
       "         [ 1.7759]]), tensor([[-5.3325],\n",
       "         [ 1.7948]]), tensor([[-5.3644],\n",
       "         [ 1.8135]]), tensor([[-5.3962],\n",
       "         [ 1.8321]]), tensor([[-5.4277],\n",
       "         [ 1.8506]]), tensor([[-5.4590],\n",
       "         [ 1.8691]]), tensor([[-5.4901],\n",
       "         [ 1.8874]]), tensor([[-5.5211],\n",
       "         [ 1.9056]]), tensor([[-5.5518],\n",
       "         [ 1.9238]]), tensor([[-5.5824],\n",
       "         [ 1.9418]]), tensor([[-5.6128],\n",
       "         [ 1.9597]]), tensor([[-5.6429],\n",
       "         [ 1.9776]]), tensor([[-5.6730],\n",
       "         [ 1.9953]]), tensor([[-5.7028],\n",
       "         [ 2.0130]]), tensor([[-5.7325],\n",
       "         [ 2.0306]]), tensor([[-5.7619],\n",
       "         [ 2.0480]]), tensor([[-5.7912],\n",
       "         [ 2.0654]]), tensor([[-5.8204],\n",
       "         [ 2.0827]]), tensor([[-5.8494],\n",
       "         [ 2.0999]]), tensor([[-5.8782],\n",
       "         [ 2.1171]]), tensor([[-5.9068],\n",
       "         [ 2.1341]]), tensor([[-5.9353],\n",
       "         [ 2.1511]]), tensor([[-5.9636],\n",
       "         [ 2.1680]]), tensor([[-5.9918],\n",
       "         [ 2.1848]]), tensor([[-6.0198],\n",
       "         [ 2.2015]]), tensor([[-6.0477],\n",
       "         [ 2.2181]]), tensor([[-6.0754],\n",
       "         [ 2.2347]]), tensor([[-6.1029],\n",
       "         [ 2.2512]]), tensor([[-6.1303],\n",
       "         [ 2.2676]]), tensor([[-6.1576],\n",
       "         [ 2.2839]]), tensor([[-6.1847],\n",
       "         [ 2.3002]]), tensor([[-6.2117],\n",
       "         [ 2.3164]]), tensor([[-6.2385],\n",
       "         [ 2.3325]]), tensor([[-6.2652],\n",
       "         [ 2.3485]]), tensor([[-6.2917],\n",
       "         [ 2.3644]]), tensor([[-6.3181],\n",
       "         [ 2.3803]]), tensor([[-6.3444],\n",
       "         [ 2.3961]]), tensor([[-6.3705],\n",
       "         [ 2.4119]]), tensor([[-6.3965],\n",
       "         [ 2.4276]]), tensor([[-6.4224],\n",
       "         [ 2.4432]]), tensor([[-6.4481],\n",
       "         [ 2.4587]]), tensor([[-6.4737],\n",
       "         [ 2.4742]]), tensor([[-6.4992],\n",
       "         [ 2.4896]]), tensor([[-6.5246],\n",
       "         [ 2.5049]]), tensor([[-6.5498],\n",
       "         [ 2.5202]]), tensor([[-6.5749],\n",
       "         [ 2.5354]]), tensor([[-6.5999],\n",
       "         [ 2.5505]]), tensor([[-6.6248],\n",
       "         [ 2.5656]]), tensor([[-6.6495],\n",
       "         [ 2.5806]]), tensor([[-6.6741],\n",
       "         [ 2.5956]]), tensor([[-6.6986],\n",
       "         [ 2.6105]]), tensor([[-6.7230],\n",
       "         [ 2.6253]]), tensor([[-6.7473],\n",
       "         [ 2.6400]]), tensor([[-6.7715],\n",
       "         [ 2.6548]]), tensor([[-6.7955],\n",
       "         [ 2.6694]]), tensor([[-6.8194],\n",
       "         [ 2.6840]]), tensor([[-6.8433],\n",
       "         [ 2.6985]]), tensor([[-6.8670],\n",
       "         [ 2.7130]]), tensor([[-6.8906],\n",
       "         [ 2.7274]]), tensor([[-6.9141],\n",
       "         [ 2.7417]]), tensor([[-6.9375],\n",
       "         [ 2.7560]]), tensor([[-6.9607],\n",
       "         [ 2.7703]]), tensor([[-6.9839],\n",
       "         [ 2.7845]]), tensor([[-7.0070],\n",
       "         [ 2.7986]]), tensor([[-7.0300],\n",
       "         [ 2.8127]]), tensor([[-7.0528],\n",
       "         [ 2.8267]]), tensor([[-7.0756],\n",
       "         [ 2.8406]]), tensor([[-7.0983],\n",
       "         [ 2.8546]]), tensor([[-7.1209],\n",
       "         [ 2.8684]]), tensor([[-7.1433],\n",
       "         [ 2.8822]]), tensor([[-7.1657],\n",
       "         [ 2.8960]]), tensor([[-7.1880],\n",
       "         [ 2.9097]]), tensor([[-7.2102],\n",
       "         [ 2.9233]]), tensor([[-7.2323],\n",
       "         [ 2.9369]]), tensor([[-7.2542],\n",
       "         [ 2.9505]]), tensor([[-7.2762],\n",
       "         [ 2.9640]]), tensor([[-7.2980],\n",
       "         [ 2.9774]]), tensor([[-7.3197],\n",
       "         [ 2.9908]]), tensor([[-7.3413],\n",
       "         [ 3.0042]]), tensor([[-7.3628],\n",
       "         [ 3.0175]]), tensor([[-7.3843],\n",
       "         [ 3.0307]]), tensor([[-7.4057],\n",
       "         [ 3.0439]]), tensor([[-7.4269],\n",
       "         [ 3.0571]]), tensor([[-7.4481],\n",
       "         [ 3.0702]]), tensor([[-7.4692],\n",
       "         [ 3.0833]]), tensor([[-7.4902],\n",
       "         [ 3.0963]]), tensor([[-7.5112],\n",
       "         [ 3.1093]]), tensor([[-7.5320],\n",
       "         [ 3.1222]]), tensor([[-7.5528],\n",
       "         [ 3.1351]]), tensor([[-7.5735],\n",
       "         [ 3.1479]]), tensor([[-7.5941],\n",
       "         [ 3.1607]]), tensor([[-7.6146],\n",
       "         [ 3.1735]]), tensor([[-7.6350],\n",
       "         [ 3.1862]]), tensor([[-7.6554],\n",
       "         [ 3.1988]]), tensor([[-7.6757],\n",
       "         [ 3.2115]]), tensor([[-7.6959],\n",
       "         [ 3.2240]]), tensor([[-7.7160],\n",
       "         [ 3.2366]]), tensor([[-7.7360],\n",
       "         [ 3.2491]]), tensor([[-7.7560],\n",
       "         [ 3.2615]]), tensor([[-7.7759],\n",
       "         [ 3.2739]]), tensor([[-7.7957],\n",
       "         [ 3.2863]]), tensor([[-7.8155],\n",
       "         [ 3.2986]]), tensor([[-7.8351],\n",
       "         [ 3.3109]]), tensor([[-7.8547],\n",
       "         [ 3.3232]]), tensor([[-7.8742],\n",
       "         [ 3.3354]]), tensor([[-7.8937],\n",
       "         [ 3.3475]]), tensor([[-7.9131],\n",
       "         [ 3.3597]]), tensor([[-7.9324],\n",
       "         [ 3.3717]]), tensor([[-7.9516],\n",
       "         [ 3.3838]]), tensor([[-7.9708],\n",
       "         [ 3.3958]]), tensor([[-7.9899],\n",
       "         [ 3.4078]]), tensor([[-8.0089],\n",
       "         [ 3.4197]]), tensor([[-8.0279],\n",
       "         [ 3.4316]]), tensor([[-8.0468],\n",
       "         [ 3.4434]]), tensor([[-8.0656],\n",
       "         [ 3.4553]]), tensor([[-8.0843],\n",
       "         [ 3.4670]]), tensor([[-8.1030],\n",
       "         [ 3.4788]]), tensor([[-8.1217],\n",
       "         [ 3.4905]]), tensor([[-8.1402],\n",
       "         [ 3.5022]]), tensor([[-8.1587],\n",
       "         [ 3.5138]]), tensor([[-8.1771],\n",
       "         [ 3.5254]]), tensor([[-8.1955],\n",
       "         [ 3.5370]]), tensor([[-8.2138],\n",
       "         [ 3.5485]]), tensor([[-8.2320],\n",
       "         [ 3.5600]]), tensor([[-8.2502],\n",
       "         [ 3.5715]]), tensor([[-8.2683],\n",
       "         [ 3.5829]]), tensor([[-8.2864],\n",
       "         [ 3.5943]]), tensor([[-8.3044],\n",
       "         [ 3.6056]]), tensor([[-8.3223],\n",
       "         [ 3.6169]]), tensor([[-8.3402],\n",
       "         [ 3.6282]]), tensor([[-8.3580],\n",
       "         [ 3.6395]]), tensor([[-8.3757],\n",
       "         [ 3.6507]]), tensor([[-8.3934],\n",
       "         [ 3.6619]]), tensor([[-8.4110],\n",
       "         [ 3.6730]]), tensor([[-8.4286],\n",
       "         [ 3.6842]]), tensor([[-8.4461],\n",
       "         [ 3.6952]]), tensor([[-8.4636],\n",
       "         [ 3.7063]]), tensor([[-8.4810],\n",
       "         [ 3.7173]]), tensor([[-8.4983],\n",
       "         [ 3.7283]]), tensor([[-8.5156],\n",
       "         [ 3.7393]]), tensor([[-8.5328],\n",
       "         [ 3.7502]]), tensor([[-8.5500],\n",
       "         [ 3.7611]]), tensor([[-8.5671],\n",
       "         [ 3.7720]]), tensor([[-8.5842],\n",
       "         [ 3.7828]]), tensor([[-8.6012],\n",
       "         [ 3.7936]]), tensor([[-8.6182],\n",
       "         [ 3.8044]]), tensor([[-8.6351],\n",
       "         [ 3.8151]]), tensor([[-8.6519],\n",
       "         [ 3.8258]]), tensor([[-8.6687],\n",
       "         [ 3.8365]]), tensor([[-8.6854],\n",
       "         [ 3.8472]]), tensor([[-8.7021],\n",
       "         [ 3.8578]]), tensor([[-8.7188],\n",
       "         [ 3.8684]]), tensor([[-8.7353],\n",
       "         [ 3.8789]]), tensor([[-8.7519],\n",
       "         [ 3.8895]]), tensor([[-8.7684],\n",
       "         [ 3.9000]]), tensor([[-8.7848],\n",
       "         [ 3.9105]]), tensor([[-8.8012],\n",
       "         [ 3.9209]]), tensor([[-8.8175],\n",
       "         [ 3.9313]]), tensor([[-8.8338],\n",
       "         [ 3.9417]]), tensor([[-8.8500],\n",
       "         [ 3.9521]]), tensor([[-8.8662],\n",
       "         [ 3.9624]]), tensor([[-8.8823],\n",
       "         [ 3.9727]]), tensor([[-8.8984],\n",
       "         [ 3.9830]]), tensor([[-8.9145],\n",
       "         [ 3.9933]]), tensor([[-8.9304],\n",
       "         [ 4.0035]]), tensor([[-8.9464],\n",
       "         [ 4.0137]]), tensor([[-8.9623],\n",
       "         [ 4.0238]]), tensor([[-8.9781],\n",
       "         [ 4.0340]]), tensor([[-8.9939],\n",
       "         [ 4.0441]]), tensor([[-9.0097],\n",
       "         [ 4.0542]]), tensor([[-9.0254],\n",
       "         [ 4.0643]]), tensor([[-9.0411],\n",
       "         [ 4.0743]]), tensor([[-9.0567],\n",
       "         [ 4.0843]]), tensor([[-9.0722],\n",
       "         [ 4.0943]]), tensor([[-9.0878],\n",
       "         [ 4.1042]]), tensor([[-9.1033],\n",
       "         [ 4.1142]]), tensor([[-9.1187],\n",
       "         [ 4.1241]]), tensor([[-9.1341],\n",
       "         [ 4.1340]]), tensor([[-9.1494],\n",
       "         [ 4.1438]]), tensor([[-9.1647],\n",
       "         [ 4.1537]]), tensor([[-9.1800],\n",
       "         [ 4.1635]]), tensor([[-9.1952],\n",
       "         [ 4.1732]]), tensor([[-9.2104],\n",
       "         [ 4.1830]]), tensor([[-9.2255],\n",
       "         [ 4.1927]]), tensor([[-9.2406],\n",
       "         [ 4.2024]]), tensor([[-9.2557],\n",
       "         [ 4.2121]]), tensor([[-9.2707],\n",
       "         [ 4.2218]]), tensor([[-9.2856],\n",
       "         [ 4.2314]]), tensor([[-9.3006],\n",
       "         [ 4.2410]]), tensor([[-9.3154],\n",
       "         [ 4.2506]]), tensor([[-9.3303],\n",
       "         [ 4.2602]]), tensor([[-9.3451],\n",
       "         [ 4.2697]]), tensor([[-9.3599],\n",
       "         [ 4.2792]]), tensor([[-9.3746],\n",
       "         [ 4.2887]]), tensor([[-9.3893],\n",
       "         [ 4.2982]]), tensor([[-9.4039],\n",
       "         [ 4.3076]]), tensor([[-9.4185],\n",
       "         [ 4.3171]]), tensor([[-9.4331],\n",
       "         [ 4.3265]]), tensor([[-9.4476],\n",
       "         [ 4.3358]]), tensor([[-9.4621],\n",
       "         [ 4.3452]]), tensor([[-9.4765],\n",
       "         [ 4.3545]]), tensor([[-9.4909],\n",
       "         [ 4.3638]]), tensor([[-9.5053],\n",
       "         [ 4.3731]]), tensor([[-9.5196],\n",
       "         [ 4.3824]]), tensor([[-9.5339],\n",
       "         [ 4.3916]]), tensor([[-9.5482],\n",
       "         [ 4.4008]]), tensor([[-9.5624],\n",
       "         [ 4.4100]]), tensor([[-9.5766],\n",
       "         [ 4.4192]]), tensor([[-9.5907],\n",
       "         [ 4.4284]]), tensor([[-9.6048],\n",
       "         [ 4.4375]]), tensor([[-9.6189],\n",
       "         [ 4.4466]]), tensor([[-9.6329],\n",
       "         [ 4.4557]]), tensor([[-9.6469],\n",
       "         [ 4.4648]]), tensor([[-9.6609],\n",
       "         [ 4.4738]]), tensor([[-9.6748],\n",
       "         [ 4.4829]]), tensor([[-9.6887],\n",
       "         [ 4.4919]]), tensor([[-9.7025],\n",
       "         [ 4.5008]]), tensor([[-9.7164],\n",
       "         [ 4.5098]]), tensor([[-9.7301],\n",
       "         [ 4.5188]]), tensor([[-9.7439],\n",
       "         [ 4.5277]]), tensor([[-9.7576],\n",
       "         [ 4.5366]]), tensor([[-9.7713],\n",
       "         [ 4.5455]]), tensor([[-9.7849],\n",
       "         [ 4.5543]]), tensor([[-9.7986],\n",
       "         [ 4.5632]]), tensor([[-9.8121],\n",
       "         [ 4.5720]]), tensor([[-9.8257],\n",
       "         [ 4.5808]]), tensor([[-9.8392],\n",
       "         [ 4.5896]]), tensor([[-9.8527],\n",
       "         [ 4.5983]]), tensor([[-9.8661],\n",
       "         [ 4.6071]]), tensor([[-9.8795],\n",
       "         [ 4.6158]]), tensor([[-9.8929],\n",
       "         [ 4.6245]]), tensor([[-9.9062],\n",
       "         [ 4.6332]]), tensor([[-9.9196],\n",
       "         [ 4.6419]]), tensor([[-9.9328],\n",
       "         [ 4.6505]]), tensor([[-9.9461],\n",
       "         [ 4.6591]]), tensor([[-9.9593],\n",
       "         [ 4.6677]]), tensor([[-9.9725],\n",
       "         [ 4.6763]]), tensor([[-9.9856],\n",
       "         [ 4.6849]]), tensor([[-9.9988],\n",
       "         [ 4.6935]]), tensor([[-10.0119],\n",
       "         [  4.7020]]), tensor([[-10.0249],\n",
       "         [  4.7105]]), tensor([[-10.0379],\n",
       "         [  4.7190]]), tensor([[-10.0509],\n",
       "         [  4.7275]]), tensor([[-10.0639],\n",
       "         [  4.7359]]), tensor([[-10.0768],\n",
       "         [  4.7444]]), tensor([[-10.0897],\n",
       "         [  4.7528]]), tensor([[-10.1026],\n",
       "         [  4.7612]]), tensor([[-10.1155],\n",
       "         [  4.7696]]), tensor([[-10.1283],\n",
       "         [  4.7780]]), tensor([[-10.1411],\n",
       "         [  4.7863]]), tensor([[-10.1538],\n",
       "         [  4.7946]]), tensor([[-10.1665],\n",
       "         [  4.8030]]), tensor([[-10.1792],\n",
       "         [  4.8113]]), tensor([[-10.1919],\n",
       "         [  4.8195]]), tensor([[-10.2046],\n",
       "         [  4.8278]]), tensor([[-10.2172],\n",
       "         [  4.8360]]), tensor([[-10.2297],\n",
       "         [  4.8443]]), tensor([[-10.2423],\n",
       "         [  4.8525]]), tensor([[-10.2548],\n",
       "         [  4.8607]]), tensor([[-10.2673],\n",
       "         [  4.8688]]), tensor([[-10.2798],\n",
       "         [  4.8770]]), tensor([[-10.2922],\n",
       "         [  4.8852]]), tensor([[-10.3046],\n",
       "         [  4.8933]]), tensor([[-10.3170],\n",
       "         [  4.9014]]), tensor([[-10.3294],\n",
       "         [  4.9095]]), tensor([[-10.3417],\n",
       "         [  4.9176]]), tensor([[-10.3540],\n",
       "         [  4.9256]]), tensor([[-10.3663],\n",
       "         [  4.9337]]), tensor([[-10.3785],\n",
       "         [  4.9417]]), tensor([[-10.3907],\n",
       "         [  4.9497]]), tensor([[-10.4029],\n",
       "         [  4.9577]]), tensor([[-10.4151],\n",
       "         [  4.9657]]), tensor([[-10.4272],\n",
       "         [  4.9736]]), tensor([[-10.4393],\n",
       "         [  4.9816]]), tensor([[-10.4514],\n",
       "         [  4.9895]]), tensor([[-10.4635],\n",
       "         [  4.9974]]), tensor([[-10.4755],\n",
       "         [  5.0053]]), tensor([[-10.4875],\n",
       "         [  5.0132]]), tensor([[-10.4995],\n",
       "         [  5.0210]]), tensor([[-10.5114],\n",
       "         [  5.0289]]), tensor([[-10.5233],\n",
       "         [  5.0367]]), tensor([[-10.5353],\n",
       "         [  5.0445]]), tensor([[-10.5471],\n",
       "         [  5.0524]]), tensor([[-10.5590],\n",
       "         [  5.0601]]), tensor([[-10.5708],\n",
       "         [  5.0679]]), tensor([[-10.5826],\n",
       "         [  5.0757]]), tensor([[-10.5944],\n",
       "         [  5.0834]]), tensor([[-10.6061],\n",
       "         [  5.0911]]), tensor([[-10.6179],\n",
       "         [  5.0988]]), tensor([[-10.6296],\n",
       "         [  5.1065]]), tensor([[-10.6412],\n",
       "         [  5.1142]]), tensor([[-10.6529],\n",
       "         [  5.1219]]), tensor([[-10.6645],\n",
       "         [  5.1295]]), tensor([[-10.6761],\n",
       "         [  5.1372]]), tensor([[-10.6877],\n",
       "         [  5.1448]]), tensor([[-10.6992],\n",
       "         [  5.1524]]), tensor([[-10.7108],\n",
       "         [  5.1600]]), tensor([[-10.7223],\n",
       "         [  5.1676]]), tensor([[-10.7338],\n",
       "         [  5.1751]]), tensor([[-10.7452],\n",
       "         [  5.1827]]), tensor([[-10.7567],\n",
       "         [  5.1902]]), tensor([[-10.7681],\n",
       "         [  5.1977]]), tensor([[-10.7795],\n",
       "         [  5.2052]]), tensor([[-10.7908],\n",
       "         [  5.2127]]), tensor([[-10.8022],\n",
       "         [  5.2202]]), tensor([[-10.8135],\n",
       "         [  5.2277]]), tensor([[-10.8248],\n",
       "         [  5.2351]]), tensor([[-10.8360],\n",
       "         [  5.2426]]), tensor([[-10.8473],\n",
       "         [  5.2500]]), tensor([[-10.8585],\n",
       "         [  5.2574]]), tensor([[-10.8697],\n",
       "         [  5.2648]]), tensor([[-10.8809],\n",
       "         [  5.2722]]), tensor([[-10.8921],\n",
       "         [  5.2795]]), tensor([[-10.9032],\n",
       "         [  5.2869]]), tensor([[-10.9143],\n",
       "         [  5.2942]]), tensor([[-10.9254],\n",
       "         [  5.3015]]), tensor([[-10.9365],\n",
       "         [  5.3089]]), tensor([[-10.9475],\n",
       "         [  5.3161]]), tensor([[-10.9586],\n",
       "         [  5.3234]]), tensor([[-10.9696],\n",
       "         [  5.3307]]), tensor([[-10.9806],\n",
       "         [  5.3380]]), tensor([[-10.9915],\n",
       "         [  5.3452]]), tensor([[-11.0025],\n",
       "         [  5.3524]]), tensor([[-11.0134],\n",
       "         [  5.3597]]), tensor([[-11.0243],\n",
       "         [  5.3669]]), tensor([[-11.0352],\n",
       "         [  5.3741]]), tensor([[-11.0460],\n",
       "         [  5.3812]]), tensor([[-11.0568],\n",
       "         [  5.3884]]), tensor([[-11.0677],\n",
       "         [  5.3955]]), tensor([[-11.0784],\n",
       "         [  5.4027]]), tensor([[-11.0892],\n",
       "         [  5.4098]]), tensor([[-11.1000],\n",
       "         [  5.4169]]), tensor([[-11.1107],\n",
       "         [  5.4240]]), tensor([[-11.1214],\n",
       "         [  5.4311]]), tensor([[-11.1321],\n",
       "         [  5.4382]]), tensor([[-11.1428],\n",
       "         [  5.4453]]), tensor([[-11.1534],\n",
       "         [  5.4523]]), tensor([[-11.1641],\n",
       "         [  5.4593]]), tensor([[-11.1747],\n",
       "         [  5.4664]]), tensor([[-11.1853],\n",
       "         [  5.4734]]), tensor([[-11.1958],\n",
       "         [  5.4804]]), tensor([[-11.2064],\n",
       "         [  5.4874]]), tensor([[-11.2169],\n",
       "         [  5.4943]]), tensor([[-11.2274],\n",
       "         [  5.5013]]), tensor([[-11.2379],\n",
       "         [  5.5083]]), tensor([[-11.2484],\n",
       "         [  5.5152]]), tensor([[-11.2588],\n",
       "         [  5.5221]]), tensor([[-11.2693],\n",
       "         [  5.5290]]), tensor([[-11.2797],\n",
       "         [  5.5360]]), tensor([[-11.2901],\n",
       "         [  5.5428]]), tensor([[-11.3004],\n",
       "         [  5.5497]]), tensor([[-11.3108],\n",
       "         [  5.5566]]), tensor([[-11.3211],\n",
       "         [  5.5634]]), tensor([[-11.3314],\n",
       "         [  5.5703]]), tensor([[-11.3417],\n",
       "         [  5.5771]]), tensor([[-11.3520],\n",
       "         [  5.5839]]), tensor([[-11.3623],\n",
       "         [  5.5907]]), tensor([[-11.3725],\n",
       "         [  5.5975]]), tensor([[-11.3827],\n",
       "         [  5.6043]]), tensor([[-11.3929],\n",
       "         [  5.6111]]), tensor([[-11.4031],\n",
       "         [  5.6179]]), tensor([[-11.4133],\n",
       "         [  5.6246]]), tensor([[-11.4234],\n",
       "         [  5.6314]]), tensor([[-11.4336],\n",
       "         [  5.6381]]), tensor([[-11.4437],\n",
       "         [  5.6448]]), tensor([[-11.4538],\n",
       "         [  5.6515]]), tensor([[-11.4639],\n",
       "         [  5.6582]]), tensor([[-11.4739],\n",
       "         [  5.6649]]), tensor([[-11.4840],\n",
       "         [  5.6716]]), tensor([[-11.4940],\n",
       "         [  5.6782]]), tensor([[-11.5040],\n",
       "         [  5.6849]]), tensor([[-11.5140],\n",
       "         [  5.6915]]), tensor([[-11.5239],\n",
       "         [  5.6981]]), tensor([[-11.5339],\n",
       "         [  5.7047]]), tensor([[-11.5438],\n",
       "         [  5.7114]]), tensor([[-11.5537],\n",
       "         [  5.7179]]), tensor([[-11.5636],\n",
       "         [  5.7245]]), tensor([[-11.5735],\n",
       "         [  5.7311]]), tensor([[-11.5834],\n",
       "         [  5.7377]]), tensor([[-11.5932],\n",
       "         [  5.7442]]), tensor([[-11.6031],\n",
       "         [  5.7508]]), tensor([[-11.6129],\n",
       "         [  5.7573]]), tensor([[-11.6227],\n",
       "         [  5.7638]]), tensor([[-11.6325],\n",
       "         [  5.7703]]), tensor([[-11.6422],\n",
       "         [  5.7768]]), tensor([[-11.6520],\n",
       "         [  5.7833]]), tensor([[-11.6617],\n",
       "         [  5.7898]]), tensor([[-11.6714],\n",
       "         [  5.7962]]), tensor([[-11.6811],\n",
       "         [  5.8027]]), tensor([[-11.6908],\n",
       "         [  5.8091]]), tensor([[-11.7004],\n",
       "         [  5.8156]]), tensor([[-11.7101],\n",
       "         [  5.8220]]), tensor([[-11.7197],\n",
       "         [  5.8284]]), tensor([[-11.7293],\n",
       "         [  5.8348]]), tensor([[-11.7389],\n",
       "         [  5.8412]]), tensor([[-11.7485],\n",
       "         [  5.8476]]), tensor([[-11.7581],\n",
       "         [  5.8540]]), tensor([[-11.7676],\n",
       "         [  5.8603]]), tensor([[-11.7772],\n",
       "         [  5.8667]]), tensor([[-11.7867],\n",
       "         [  5.8730]]), tensor([[-11.7962],\n",
       "         [  5.8793]]), tensor([[-11.8057],\n",
       "         [  5.8857]]), tensor([[-11.8151],\n",
       "         [  5.8920]]), tensor([[-11.8246],\n",
       "         [  5.8983]]), tensor([[-11.8340],\n",
       "         [  5.9046]]), tensor([[-11.8435],\n",
       "         [  5.9109]]), tensor([[-11.8529],\n",
       "         [  5.9171]]), tensor([[-11.8622],\n",
       "         [  5.9234]]), tensor([[-11.8716],\n",
       "         [  5.9296]]), tensor([[-11.8810],\n",
       "         [  5.9359]]), tensor([[-11.8903],\n",
       "         [  5.9421]]), tensor([[-11.8997],\n",
       "         [  5.9483]]), tensor([[-11.9090],\n",
       "         [  5.9546]]), tensor([[-11.9183],\n",
       "         [  5.9608]]), tensor([[-11.9276],\n",
       "         [  5.9670]]), tensor([[-11.9368],\n",
       "         [  5.9731]]), tensor([[-11.9461],\n",
       "         [  5.9793]]), tensor([[-11.9553],\n",
       "         [  5.9855]]), tensor([[-11.9645],\n",
       "         [  5.9916]]), tensor([[-11.9737],\n",
       "         [  5.9978]]), tensor([[-11.9829],\n",
       "         [  6.0039]]), tensor([[-11.9921],\n",
       "         [  6.0101]]), tensor([[-12.0013],\n",
       "         [  6.0162]]), tensor([[-12.0104],\n",
       "         [  6.0223]]), tensor([[-12.0196],\n",
       "         [  6.0284]]), tensor([[-12.0287],\n",
       "         [  6.0345]]), tensor([[-12.0378],\n",
       "         [  6.0405]]), tensor([[-12.0469],\n",
       "         [  6.0466]]), tensor([[-12.0560],\n",
       "         [  6.0527]]), tensor([[-12.0650],\n",
       "         [  6.0587]]), tensor([[-12.0741],\n",
       "         [  6.0648]]), tensor([[-12.0831],\n",
       "         [  6.0708]]), tensor([[-12.0921],\n",
       "         [  6.0768]]), tensor([[-12.1011],\n",
       "         [  6.0829]]), tensor([[-12.1101],\n",
       "         [  6.0889]]), tensor([[-12.1191],\n",
       "         [  6.0949]]), tensor([[-12.1281],\n",
       "         [  6.1009]]), tensor([[-12.1370],\n",
       "         [  6.1068]]), tensor([[-12.1459],\n",
       "         [  6.1128]]), tensor([[-12.1549],\n",
       "         [  6.1188]]), tensor([[-12.1638],\n",
       "         [  6.1247]]), tensor([[-12.1727],\n",
       "         [  6.1307]]), tensor([[-12.1815],\n",
       "         [  6.1366]]), tensor([[-12.1904],\n",
       "         [  6.1425]]), tensor([[-12.1993],\n",
       "         [  6.1485]]), tensor([[-12.2081],\n",
       "         [  6.1544]]), tensor([[-12.2169],\n",
       "         [  6.1603]]), tensor([[-12.2257],\n",
       "         [  6.1662]]), tensor([[-12.2345],\n",
       "         [  6.1720]]), tensor([[-12.2433],\n",
       "         [  6.1779]]), tensor([[-12.2521],\n",
       "         [  6.1838]]), tensor([[-12.2608],\n",
       "         [  6.1896]]), tensor([[-12.2696],\n",
       "         [  6.1955]]), tensor([[-12.2783],\n",
       "         [  6.2013]]), tensor([[-12.2870],\n",
       "         [  6.2072]]), tensor([[-12.2957],\n",
       "         [  6.2130]]), tensor([[-12.3044],\n",
       "         [  6.2188]]), tensor([[-12.3131],\n",
       "         [  6.2246]]), tensor([[-12.3218],\n",
       "         [  6.2304]]), tensor([[-12.3304],\n",
       "         [  6.2362]]), tensor([[-12.3390],\n",
       "         [  6.2420]]), tensor([[-12.3477],\n",
       "         [  6.2478]]), tensor([[-12.3563],\n",
       "         [  6.2535]]), tensor([[-12.3649],\n",
       "         [  6.2593]]), tensor([[-12.3735],\n",
       "         [  6.2650]]), tensor([[-12.3820],\n",
       "         [  6.2708]]), tensor([[-12.3906],\n",
       "         [  6.2765]]), tensor([[-12.3991],\n",
       "         [  6.2822]]), tensor([[-12.4077],\n",
       "         [  6.2880]]), tensor([[-12.4162],\n",
       "         [  6.2937]]), tensor([[-12.4247],\n",
       "         [  6.2994]]), tensor([[-12.4332],\n",
       "         [  6.3051]]), tensor([[-12.4417],\n",
       "         [  6.3107]]), tensor([[-12.4502],\n",
       "         [  6.3164]]), tensor([[-12.4586],\n",
       "         [  6.3221]]), tensor([[-12.4671],\n",
       "         [  6.3277]]), tensor([[-12.4755],\n",
       "         [  6.3334]]), tensor([[-12.4839],\n",
       "         [  6.3390]]), tensor([[-12.4923],\n",
       "         [  6.3447]]), tensor([[-12.5007],\n",
       "         [  6.3503]]), tensor([[-12.5091],\n",
       "         [  6.3559]]), tensor([[-12.5175],\n",
       "         [  6.3615]]), tensor([[-12.5258],\n",
       "         [  6.3671]]), tensor([[-12.5342],\n",
       "         [  6.3727]]), tensor([[-12.5425],\n",
       "         [  6.3783]]), tensor([[-12.5509],\n",
       "         [  6.3839]]), tensor([[-12.5592],\n",
       "         [  6.3895]]), tensor([[-12.5675],\n",
       "         [  6.3950]]), tensor([[-12.5758],\n",
       "         [  6.4006]]), tensor([[-12.5840],\n",
       "         [  6.4061]]), tensor([[-12.5923],\n",
       "         [  6.4117]]), tensor([[-12.6006],\n",
       "         [  6.4172]]), tensor([[-12.6088],\n",
       "         [  6.4228]]), tensor([[-12.6170],\n",
       "         [  6.4283]]), tensor([[-12.6252],\n",
       "         [  6.4338]]), tensor([[-12.6335],\n",
       "         [  6.4393]]), tensor([[-12.6416],\n",
       "         [  6.4448]]), tensor([[-12.6498],\n",
       "         [  6.4503]]), tensor([[-12.6580],\n",
       "         [  6.4558]]), tensor([[-12.6662],\n",
       "         [  6.4612]]), tensor([[-12.6743],\n",
       "         [  6.4667]]), tensor([[-12.6824],\n",
       "         [  6.4722]]), tensor([[-12.6906],\n",
       "         [  6.4776]]), tensor([[-12.6987],\n",
       "         [  6.4831]]), tensor([[-12.7068],\n",
       "         [  6.4885]]), tensor([[-12.7149],\n",
       "         [  6.4939]]), tensor([[-12.7230],\n",
       "         [  6.4993]]), tensor([[-12.7310],\n",
       "         [  6.5048]]), tensor([[-12.7391],\n",
       "         [  6.5102]]), tensor([[-12.7471],\n",
       "         [  6.5156]]), tensor([[-12.7552],\n",
       "         [  6.5210]]), tensor([[-12.7632],\n",
       "         [  6.5263]]), tensor([[-12.7712],\n",
       "         [  6.5317]]), tensor([[-12.7792],\n",
       "         [  6.5371]]), tensor([[-12.7872],\n",
       "         [  6.5425]]), tensor([[-12.7952],\n",
       "         [  6.5478]]), tensor([[-12.8031],\n",
       "         [  6.5532]]), tensor([[-12.8111],\n",
       "         [  6.5585]]), tensor([[-12.8190],\n",
       "         [  6.5638]]), tensor([[-12.8270],\n",
       "         [  6.5692]]), tensor([[-12.8349],\n",
       "         [  6.5745]]), tensor([[-12.8428],\n",
       "         [  6.5798]]), tensor([[-12.8507],\n",
       "         [  6.5851]]), tensor([[-12.8586],\n",
       "         [  6.5904]]), tensor([[-12.8665],\n",
       "         [  6.5957]]), tensor([[-12.8744],\n",
       "         [  6.6010]]), tensor([[-12.8822],\n",
       "         [  6.6063]]), tensor([[-12.8901],\n",
       "         [  6.6116]]), tensor([[-12.8979],\n",
       "         [  6.6168]]), tensor([[-12.9057],\n",
       "         [  6.6221]]), tensor([[-12.9136],\n",
       "         [  6.6273]]), tensor([[-12.9214],\n",
       "         [  6.6326]]), tensor([[-12.9292],\n",
       "         [  6.6378]]), tensor([[-12.9369],\n",
       "         [  6.6430]]), tensor([[-12.9447],\n",
       "         [  6.6483]]), tensor([[-12.9525],\n",
       "         [  6.6535]]), tensor([[-12.9602],\n",
       "         [  6.6587]]), tensor([[-12.9680],\n",
       "         [  6.6639]]), tensor([[-12.9757],\n",
       "         [  6.6691]]), tensor([[-12.9834],\n",
       "         [  6.6743]]), tensor([[-12.9912],\n",
       "         [  6.6795]]), tensor([[-12.9989],\n",
       "         [  6.6847]]), tensor([[-13.0065],\n",
       "         [  6.6898]]), tensor([[-13.0142],\n",
       "         [  6.6950]]), tensor([[-13.0219],\n",
       "         [  6.7002]]), tensor([[-13.0296],\n",
       "         [  6.7053]]), tensor([[-13.0372],\n",
       "         [  6.7104]]), tensor([[-13.0449],\n",
       "         [  6.7156]]), tensor([[-13.0525],\n",
       "         [  6.7207]]), tensor([[-13.0601],\n",
       "         [  6.7258]]), tensor([[-13.0677],\n",
       "         [  6.7310]]), tensor([[-13.0753],\n",
       "         [  6.7361]]), tensor([[-13.0829],\n",
       "         [  6.7412]]), tensor([[-13.0905],\n",
       "         [  6.7463]]), tensor([[-13.0981],\n",
       "         [  6.7514]]), tensor([[-13.1056],\n",
       "         [  6.7565]]), tensor([[-13.1132],\n",
       "         [  6.7615]]), tensor([[-13.1207],\n",
       "         [  6.7666]]), tensor([[-13.1283],\n",
       "         [  6.7717]]), tensor([[-13.1358],\n",
       "         [  6.7767]]), tensor([[-13.1433],\n",
       "         [  6.7818]]), tensor([[-13.1508],\n",
       "         [  6.7868]]), tensor([[-13.1583],\n",
       "         [  6.7919]]), tensor([[-13.1658],\n",
       "         [  6.7969]]), tensor([[-13.1733],\n",
       "         [  6.8019]]), tensor([[-13.1807],\n",
       "         [  6.8070]]), tensor([[-13.1882],\n",
       "         [  6.8120]]), tensor([[-13.1956],\n",
       "         [  6.8170]]), tensor([[-13.2031],\n",
       "         [  6.8220]]), tensor([[-13.2105],\n",
       "         [  6.8270]]), tensor([[-13.2179],\n",
       "         [  6.8320]]), tensor([[-13.2253],\n",
       "         [  6.8370]]), tensor([[-13.2327],\n",
       "         [  6.8419]]), tensor([[-13.2401],\n",
       "         [  6.8469]]), tensor([[-13.2475],\n",
       "         [  6.8519]]), tensor([[-13.2549],\n",
       "         [  6.8568]]), tensor([[-13.2622],\n",
       "         [  6.8618]]), tensor([[-13.2696],\n",
       "         [  6.8668]]), tensor([[-13.2769],\n",
       "         [  6.8717]]), tensor([[-13.2843],\n",
       "         [  6.8766]]), tensor([[-13.2916],\n",
       "         [  6.8816]]), tensor([[-13.2989],\n",
       "         [  6.8865]]), tensor([[-13.3062],\n",
       "         [  6.8914]]), tensor([[-13.3135],\n",
       "         [  6.8963]]), tensor([[-13.3208],\n",
       "         [  6.9012]]), tensor([[-13.3281],\n",
       "         [  6.9061]]), tensor([[-13.3353],\n",
       "         [  6.9110]]), tensor([[-13.3426],\n",
       "         [  6.9159]]), tensor([[-13.3499],\n",
       "         [  6.9208]]), tensor([[-13.3571],\n",
       "         [  6.9257]]), tensor([[-13.3643],\n",
       "         [  6.9305]]), tensor([[-13.3716],\n",
       "         [  6.9354]]), tensor([[-13.3788],\n",
       "         [  6.9403]]), tensor([[-13.3860],\n",
       "         [  6.9451]]), tensor([[-13.3932],\n",
       "         [  6.9500]]), tensor([[-13.4004],\n",
       "         [  6.9548]]), tensor([[-13.4075],\n",
       "         [  6.9596]]), tensor([[-13.4147],\n",
       "         [  6.9645]]), tensor([[-13.4219],\n",
       "         [  6.9693]]), tensor([[-13.4290],\n",
       "         [  6.9741]]), tensor([[-13.4362],\n",
       "         [  6.9789]]), tensor([[-13.4433],\n",
       "         [  6.9837]]), tensor([[-13.4504],\n",
       "         [  6.9885]]), tensor([[-13.4576],\n",
       "         [  6.9933]]), tensor([[-13.4647],\n",
       "         [  6.9981]]), tensor([[-13.4718],\n",
       "         [  7.0029]]), tensor([[-13.4789],\n",
       "         [  7.0077]]), tensor([[-13.4860],\n",
       "         [  7.0124]]), tensor([[-13.4930],\n",
       "         [  7.0172]]), tensor([[-13.5001],\n",
       "         [  7.0220]]), tensor([[-13.5072],\n",
       "         [  7.0267]]), tensor([[-13.5142],\n",
       "         [  7.0315]]), tensor([[-13.5213],\n",
       "         [  7.0362]]), tensor([[-13.5283],\n",
       "         [  7.0410]]), tensor([[-13.5353],\n",
       "         [  7.0457]]), tensor([[-13.5423],\n",
       "         [  7.0504]]), tensor([[-13.5493],\n",
       "         [  7.0551]]), tensor([[-13.5563],\n",
       "         [  7.0599]]), tensor([[-13.5633],\n",
       "         [  7.0646]]), tensor([[-13.5703],\n",
       "         [  7.0693]]), tensor([[-13.5773],\n",
       "         [  7.0740]]), tensor([[-13.5843],\n",
       "         [  7.0787]]), tensor([[-13.5912],\n",
       "         [  7.0834]]), tensor([[-13.5982],\n",
       "         [  7.0880]]), tensor([[-13.6051],\n",
       "         [  7.0927]]), tensor([[-13.6120],\n",
       "         [  7.0974]]), tensor([[-13.6190],\n",
       "         [  7.1021]]), tensor([[-13.6259],\n",
       "         [  7.1067]]), tensor([[-13.6328],\n",
       "         [  7.1114]]), tensor([[-13.6397],\n",
       "         [  7.1160]]), tensor([[-13.6466],\n",
       "         [  7.1207]]), tensor([[-13.6535],\n",
       "         [  7.1253]]), tensor([[-13.6604],\n",
       "         [  7.1300]]), tensor([[-13.6672],\n",
       "         [  7.1346]]), tensor([[-13.6741],\n",
       "         [  7.1392]]), tensor([[-13.6809],\n",
       "         [  7.1438]]), tensor([[-13.6878],\n",
       "         [  7.1484]]), tensor([[-13.6946],\n",
       "         [  7.1531]]), tensor([[-13.7015],\n",
       "         [  7.1577]]), tensor([[-13.7083],\n",
       "         [  7.1623]]), tensor([[-13.7151],\n",
       "         [  7.1668]]), tensor([[-13.7219],\n",
       "         [  7.1714]]), tensor([[-13.7287],\n",
       "         [  7.1760]]), tensor([[-13.7355],\n",
       "         [  7.1806]]), tensor([[-13.7423],\n",
       "         [  7.1852]]), tensor([[-13.7490],\n",
       "         [  7.1897]]), tensor([[-13.7558],\n",
       "         [  7.1943]]), tensor([[-13.7626],\n",
       "         [  7.1989]]), tensor([[-13.7693],\n",
       "         [  7.2034]]), tensor([[-13.7761],\n",
       "         [  7.2080]]), tensor([[-13.7828],\n",
       "         [  7.2125]]), tensor([[-13.7895],\n",
       "         [  7.2170]]), tensor([[-13.7962],\n",
       "         [  7.2216]]), tensor([[-13.8029],\n",
       "         [  7.2261]]), tensor([[-13.8097],\n",
       "         [  7.2306]]), tensor([[-13.8163],\n",
       "         [  7.2351]]), tensor([[-13.8230],\n",
       "         [  7.2396]]), tensor([[-13.8297],\n",
       "         [  7.2441]]), tensor([[-13.8364],\n",
       "         [  7.2486]]), tensor([[-13.8431],\n",
       "         [  7.2531]]), tensor([[-13.8497],\n",
       "         [  7.2576]]), tensor([[-13.8564],\n",
       "         [  7.2621]]), tensor([[-13.8630],\n",
       "         [  7.2666]]), tensor([[-13.8697],\n",
       "         [  7.2711]]), tensor([[-13.8763],\n",
       "         [  7.2755]]), tensor([[-13.8829],\n",
       "         [  7.2800]]), tensor([[-13.8895],\n",
       "         [  7.2845]]), tensor([[-13.8961],\n",
       "         [  7.2889]]), tensor([[-13.9027],\n",
       "         [  7.2934]]), tensor([[-13.9093],\n",
       "         [  7.2978]]), tensor([[-13.9159],\n",
       "         [  7.3023]]), tensor([[-13.9225],\n",
       "         [  7.3067]]), tensor([[-13.9290],\n",
       "         [  7.3111]]), tensor([[-13.9356],\n",
       "         [  7.3156]]), tensor([[-13.9422],\n",
       "         [  7.3200]]), tensor([[-13.9487],\n",
       "         [  7.3244]]), tensor([[-13.9553],\n",
       "         [  7.3288]]), tensor([[-13.9618],\n",
       "         [  7.3332]]), tensor([[-13.9683],\n",
       "         [  7.3376]]), tensor([[-13.9748],\n",
       "         [  7.3420]]), tensor([[-13.9813],\n",
       "         [  7.3464]]), tensor([[-13.9878],\n",
       "         [  7.3508]]), tensor([[-13.9943],\n",
       "         [  7.3552]]), tensor([[-14.0008],\n",
       "         [  7.3596]]), tensor([[-14.0073],\n",
       "         [  7.3639]]), tensor([[-14.0138],\n",
       "         [  7.3683]]), tensor([[-14.0203],\n",
       "         [  7.3727]]), tensor([[-14.0267],\n",
       "         [  7.3770]]), tensor([[-14.0332],\n",
       "         [  7.3814]]), tensor([[-14.0396],\n",
       "         [  7.3857]]), tensor([[-14.0461],\n",
       "         [  7.3901]]), tensor([[-14.0525],\n",
       "         [  7.3944]]), tensor([[-14.0589],\n",
       "         [  7.3988]]), tensor([[-14.0653],\n",
       "         [  7.4031]]), tensor([[-14.0718],\n",
       "         [  7.4074]]), tensor([[-14.0782],\n",
       "         [  7.4117]]), tensor([[-14.0846],\n",
       "         [  7.4161]]), tensor([[-14.0910],\n",
       "         [  7.4204]]), tensor([[-14.0973],\n",
       "         [  7.4247]]), tensor([[-14.1037],\n",
       "         [  7.4290]]), tensor([[-14.1101],\n",
       "         [  7.4333]]), tensor([[-14.1165],\n",
       "         [  7.4376]]), tensor([[-14.1228],\n",
       "         [  7.4419]]), tensor([[-14.1292],\n",
       "         [  7.4461]]), tensor([[-14.1355],\n",
       "         [  7.4504]]), tensor([[-14.1418],\n",
       "         [  7.4547]]), tensor([[-14.1482],\n",
       "         [  7.4590]]), tensor([[-14.1545],\n",
       "         [  7.4632]]), tensor([[-14.1608],\n",
       "         [  7.4675]]), tensor([[-14.1671],\n",
       "         [  7.4718]]), tensor([[-14.1734],\n",
       "         [  7.4760]]), tensor([[-14.1797],\n",
       "         [  7.4803]]), tensor([[-14.1860],\n",
       "         [  7.4845]]), tensor([[-14.1923],\n",
       "         [  7.4888]]), tensor([[-14.1986],\n",
       "         [  7.4930]]), tensor([[-14.2049],\n",
       "         [  7.4972]]), tensor([[-14.2111],\n",
       "         [  7.5015]]), tensor([[-14.2174],\n",
       "         [  7.5057]]), tensor([[-14.2236],\n",
       "         [  7.5099]]), tensor([[-14.2299],\n",
       "         [  7.5141]]), tensor([[-14.2361],\n",
       "         [  7.5183]]), tensor([[-14.2423],\n",
       "         [  7.5225]]), tensor([[-14.2486],\n",
       "         [  7.5267]]), tensor([[-14.2548],\n",
       "         [  7.5309]]), tensor([[-14.2610],\n",
       "         [  7.5351]]), tensor([[-14.2672],\n",
       "         [  7.5393]]), tensor([[-14.2734],\n",
       "         [  7.5435]]), tensor([[-14.2796],\n",
       "         [  7.5477]]), tensor([[-14.2858],\n",
       "         [  7.5518]]), tensor([[-14.2919],\n",
       "         [  7.5560]]), tensor([[-14.2981],\n",
       "         [  7.5602]]), tensor([[-14.3043],\n",
       "         [  7.5643]]), tensor([[-14.3104],\n",
       "         [  7.5685]]), tensor([[-14.3166],\n",
       "         [  7.5727]]), tensor([[-14.3227],\n",
       "         [  7.5768]]), tensor([[-14.3289],\n",
       "         [  7.5809]]), tensor([[-14.3350],\n",
       "         [  7.5851]]), tensor([[-14.3411],\n",
       "         [  7.5892]]), tensor([[-14.3473],\n",
       "         [  7.5934]]), tensor([[-14.3534],\n",
       "         [  7.5975]]), tensor([[-14.3595],\n",
       "         [  7.6016]]), tensor([[-14.3656],\n",
       "         [  7.6057]]), tensor([[-14.3717],\n",
       "         [  7.6098]]), tensor([[-14.3778],\n",
       "         [  7.6140]]), tensor([[-14.3839],\n",
       "         [  7.6181]]), tensor([[-14.3899],\n",
       "         [  7.6222]]), tensor([[-14.3960],\n",
       "         [  7.6263]]), tensor([[-14.4021],\n",
       "         [  7.6304]]), tensor([[-14.4081],\n",
       "         [  7.6344]]), tensor([[-14.4142],\n",
       "         [  7.6385]]), tensor([[-14.4202],\n",
       "         [  7.6426]]), tensor([[-14.4263],\n",
       "         [  7.6467]]), tensor([[-14.4323],\n",
       "         [  7.6508]]), tensor([[-14.4383],\n",
       "         [  7.6548]]), tensor([[-14.4444],\n",
       "         [  7.6589]]), tensor([[-14.4504],\n",
       "         [  7.6630]]), tensor([[-14.4564],\n",
       "         [  7.6670]]), tensor([[-14.4624],\n",
       "         [  7.6711]]), tensor([[-14.4684],\n",
       "         [  7.6751]]), tensor([[-14.4744],\n",
       "         [  7.6792]]), tensor([[-14.4804],\n",
       "         [  7.6832]]), tensor([[-14.4863],\n",
       "         [  7.6873]]), tensor([[-14.4923],\n",
       "         [  7.6913]]), tensor([[-14.4983],\n",
       "         [  7.6953]]), tensor([[-14.5042],\n",
       "         [  7.6993]]), tensor([[-14.5102],\n",
       "         [  7.7034]]), tensor([[-14.5161],\n",
       "         [  7.7074]]), tensor([[-14.5221],\n",
       "         [  7.7114]]), tensor([[-14.5280],\n",
       "         [  7.7154]]), tensor([[-14.5340],\n",
       "         [  7.7194]]), tensor([[-14.5399],\n",
       "         [  7.7234]]), tensor([[-14.5458],\n",
       "         [  7.7274]]), tensor([[-14.5517],\n",
       "         [  7.7314]]), tensor([[-14.5576],\n",
       "         [  7.7354]]), tensor([[-14.5635],\n",
       "         [  7.7394]]), tensor([[-14.5694],\n",
       "         [  7.7434]]), tensor([[-14.5753],\n",
       "         [  7.7473]]), tensor([[-14.5812],\n",
       "         [  7.7513]]), tensor([[-14.5871],\n",
       "         [  7.7553]]), tensor([[-14.5930],\n",
       "         [  7.7592]]), tensor([[-14.5988],\n",
       "         [  7.7632]]), tensor([[-14.6047],\n",
       "         [  7.7672]]), tensor([[-14.6105],\n",
       "         [  7.7711]]), tensor([[-14.6164],\n",
       "         [  7.7751]]), tensor([[-14.6222],\n",
       "         [  7.7790]]), tensor([[-14.6281],\n",
       "         [  7.7830]]), tensor([[-14.6339],\n",
       "         [  7.7869]]), tensor([[-14.6397],\n",
       "         [  7.7908]]), tensor([[-14.6455],\n",
       "         [  7.7948]]), tensor([[-14.6514],\n",
       "         [  7.7987]]), tensor([[-14.6572],\n",
       "         [  7.8026]]), tensor([[-14.6630],\n",
       "         [  7.8065]]), tensor([[-14.6688],\n",
       "         [  7.8105]]), tensor([[-14.6746],\n",
       "         [  7.8144]]), tensor([[-14.6804],\n",
       "         [  7.8183]]), tensor([[-14.6861],\n",
       "         [  7.8222]]), tensor([[-14.6919],\n",
       "         [  7.8261]]), tensor([[-14.6977],\n",
       "         [  7.8300]]), tensor([[-14.7035],\n",
       "         [  7.8339]]), tensor([[-14.7092],\n",
       "         [  7.8378]]), tensor([[-14.7150],\n",
       "         [  7.8416]]), tensor([[-14.7207],\n",
       "         [  7.8455]]), tensor([[-14.7265],\n",
       "         [  7.8494]]), tensor([[-14.7322],\n",
       "         [  7.8533]]), tensor([[-14.7379],\n",
       "         [  7.8572]]), tensor([[-14.7437],\n",
       "         [  7.8610]]), tensor([[-14.7494],\n",
       "         [  7.8649]]), tensor([[-14.7551],\n",
       "         [  7.8687]]), tensor([[-14.7608],\n",
       "         [  7.8726]]), tensor([[-14.7665],\n",
       "         [  7.8765]]), tensor([[-14.7722],\n",
       "         [  7.8803]]), tensor([[-14.7779],\n",
       "         [  7.8841]]), tensor([[-14.7836],\n",
       "         [  7.8880]]), tensor([[-14.7893],\n",
       "         [  7.8918]]), tensor([[-14.7949],\n",
       "         [  7.8957]]), tensor([[-14.8006],\n",
       "         [  7.8995]]), tensor([[-14.8063],\n",
       "         [  7.9033]]), tensor([[-14.8119],\n",
       "         [  7.9071]]), tensor([[-14.8176],\n",
       "         [  7.9110]]), tensor([[-14.8233],\n",
       "         [  7.9148]]), tensor([[-14.8289],\n",
       "         [  7.9186]]), tensor([[-14.8345],\n",
       "         [  7.9224]]), tensor([[-14.8402],\n",
       "         [  7.9262]]), tensor([[-14.8458],\n",
       "         [  7.9300]]), tensor([[-14.8514],\n",
       "         [  7.9338]]), tensor([[-14.8570],\n",
       "         [  7.9376]]), tensor([[-14.8627],\n",
       "         [  7.9414]]), tensor([[-14.8683],\n",
       "         [  7.9452]]), tensor([[-14.8739],\n",
       "         [  7.9490]]), tensor([[-14.8795],\n",
       "         [  7.9528]]), tensor([[-14.8851],\n",
       "         [  7.9565]]), tensor([[-14.8907],\n",
       "         [  7.9603]]), tensor([[-14.8962],\n",
       "         [  7.9641]])]"
      ]
     },
     "execution_count": 28,
     "metadata": {},
     "output_type": "execute_result"
    }
   ],
   "source": [
    "w_"
   ]
  },
  {
   "cell_type": "code",
   "execution_count": 29,
   "metadata": {
    "scrolled": true
   },
   "outputs": [
    {
     "data": {
      "text/plain": [
       "tensor([[-14.9018],\n",
       "        [  7.9678]], requires_grad=True)"
      ]
     },
     "execution_count": 29,
     "metadata": {},
     "output_type": "execute_result"
    }
   ],
   "source": [
    "w"
   ]
  },
  {
   "cell_type": "code",
   "execution_count": 30,
   "metadata": {},
   "outputs": [
    {
     "data": {
      "text/plain": [
       "tensor([1.9999], requires_grad=True)"
      ]
     },
     "execution_count": 30,
     "metadata": {},
     "output_type": "execute_result"
    }
   ],
   "source": [
    "b"
   ]
  },
  {
   "cell_type": "code",
   "execution_count": 31,
   "metadata": {},
   "outputs": [],
   "source": [
    "line_x = np.arange(10)/10\n",
    "line_y = (-w.data.numpy()[0]*line_x-b.data.numpy()[0])/w.data.numpy()[1]"
   ]
  },
  {
   "cell_type": "code",
   "execution_count": 32,
   "metadata": {},
   "outputs": [
    {
     "data": {
      "image/png": "[encoded data removed]",
      "text/plain": [
       "<matplotlib.figure.Figure at 0x1a55bed7e80>"
      ]
     },
     "metadata": {},
     "output_type": "display_data"
    }
   ],
   "source": [
    "plt.figure()\n",
    "plt.scatter(x_data.numpy()[:4,0],x_data.numpy()[:4,1] , marker='o', color='red')\n",
    "plt.scatter(x_data.numpy()[4:,0],x_data.numpy()[4:,1] , marker='o', color='blue')\n",
    "plt.plot(line_x,line_y)\n",
    "plt.show()"
   ]
  },
  {
   "cell_type": "markdown",
   "metadata": {},
   "source": [
    "## 用PyTorch类实现Logistic regression,torch.nn.module写网络结构"
   ]
  },
  {
   "cell_type": "code",
   "execution_count": 106,
   "metadata": {},
   "outputs": [],
   "source": [
    "class Model(torch.nn.Module):\n",
    "    \n",
    "    def __init__(self):\n",
    "        super(Model, self).__init__()\n",
    "        self.linear = torch.nn.Linear(dim_in, dim_out)\n",
    "    \n",
    "    def forward(self, x):\n",
    "        y_pred = self.linear(x)\n",
    "        return y_pred"
   ]
  },
  {
   "cell_type": "code",
   "execution_count": 107,
   "metadata": {},
   "outputs": [],
   "source": [
    "model = Model()"
   ]
  },
  {
   "cell_type": "code",
   "execution_count": 108,
   "metadata": {},
   "outputs": [],
   "source": [
    "# 定义 Loss 和 优化方法\n",
    "criterion = torch.nn.BCEWithLogitsLoss()\n",
    "optimizer = torch.optim.SGD(model.parameters(), lr = 0.1)"
   ]
  },
  {
   "cell_type": "code",
   "execution_count": 109,
   "metadata": {},
   "outputs": [
    {
     "name": "stdout",
     "output_type": "stream",
     "text": [
      "predict (before train) tensor([[0., 1.]]) is False\n"
     ]
    }
   ],
   "source": [
    "tmp_test = Variable(torch.Tensor([[0, 1.0]]))\n",
    "tmp_pred = model(tmp_test)\n",
    "print(\"predict (before train)\",tmp_test, \"is\" , 1 / (1 + np.exp(-float(tmp_pred.data))) >0.5)"
   ]
  },
  {
   "cell_type": "code",
   "execution_count": 110,
   "metadata": {},
   "outputs": [
    {
     "ename": "ValueError",
     "evalue": "Target size (torch.Size([200])) must be the same as input size (torch.Size([200, 1]))",
     "output_type": "error",
     "traceback": [
      "\u001b[1;31m---------------------------------------------------------------------------\u001b[0m",
      "\u001b[1;31mValueError\u001b[0m                                Traceback (most recent call last)",
      "\u001b[1;32m<ipython-input-110-631151d0e87d>\u001b[0m in \u001b[0;36m<module>\u001b[1;34m()\u001b[0m\n\u001b[0;32m      4\u001b[0m     \u001b[1;31m# 计算 grads and cost\u001b[0m\u001b[1;33m\u001b[0m\u001b[1;33m\u001b[0m\u001b[0m\n\u001b[0;32m      5\u001b[0m     \u001b[0my_pred\u001b[0m \u001b[1;33m=\u001b[0m \u001b[0mmodel\u001b[0m\u001b[1;33m(\u001b[0m\u001b[0mx_data\u001b[0m\u001b[1;33m)\u001b[0m\u001b[1;33m\u001b[0m\u001b[0m\n\u001b[1;32m----> 6\u001b[1;33m     \u001b[0mloss\u001b[0m \u001b[1;33m=\u001b[0m \u001b[0mcriterion\u001b[0m\u001b[1;33m(\u001b[0m\u001b[0my_pred\u001b[0m\u001b[1;33m,\u001b[0m \u001b[0my_data\u001b[0m\u001b[1;33m)\u001b[0m\u001b[1;33m\u001b[0m\u001b[0m\n\u001b[0m\u001b[0;32m      7\u001b[0m     \u001b[0mloss_\u001b[0m\u001b[1;33m.\u001b[0m\u001b[0mappend\u001b[0m\u001b[1;33m(\u001b[0m\u001b[0mloss\u001b[0m\u001b[1;33m)\u001b[0m\u001b[1;33m\u001b[0m\u001b[0m\n\u001b[0;32m      8\u001b[0m     \u001b[0moptimizer\u001b[0m\u001b[1;33m.\u001b[0m\u001b[0mzero_grad\u001b[0m\u001b[1;33m(\u001b[0m\u001b[1;33m)\u001b[0m\u001b[1;33m\u001b[0m\u001b[0m\n",
      "\u001b[1;32m~\\AppData\\Local\\Continuum\\anaconda3\\lib\\site-packages\\torch\\nn\\modules\\module.py\u001b[0m in \u001b[0;36m__call__\u001b[1;34m(self, *input, **kwargs)\u001b[0m\n\u001b[0;32m    487\u001b[0m             \u001b[0mresult\u001b[0m \u001b[1;33m=\u001b[0m \u001b[0mself\u001b[0m\u001b[1;33m.\u001b[0m\u001b[0m_slow_forward\u001b[0m\u001b[1;33m(\u001b[0m\u001b[1;33m*\u001b[0m\u001b[0minput\u001b[0m\u001b[1;33m,\u001b[0m \u001b[1;33m**\u001b[0m\u001b[0mkwargs\u001b[0m\u001b[1;33m)\u001b[0m\u001b[1;33m\u001b[0m\u001b[0m\n\u001b[0;32m    488\u001b[0m         \u001b[1;32melse\u001b[0m\u001b[1;33m:\u001b[0m\u001b[1;33m\u001b[0m\u001b[0m\n\u001b[1;32m--> 489\u001b[1;33m             \u001b[0mresult\u001b[0m \u001b[1;33m=\u001b[0m \u001b[0mself\u001b[0m\u001b[1;33m.\u001b[0m\u001b[0mforward\u001b[0m\u001b[1;33m(\u001b[0m\u001b[1;33m*\u001b[0m\u001b[0minput\u001b[0m\u001b[1;33m,\u001b[0m \u001b[1;33m**\u001b[0m\u001b[0mkwargs\u001b[0m\u001b[1;33m)\u001b[0m\u001b[1;33m\u001b[0m\u001b[0m\n\u001b[0m\u001b[0;32m    490\u001b[0m         \u001b[1;32mfor\u001b[0m \u001b[0mhook\u001b[0m \u001b[1;32min\u001b[0m \u001b[0mself\u001b[0m\u001b[1;33m.\u001b[0m\u001b[0m_forward_hooks\u001b[0m\u001b[1;33m.\u001b[0m\u001b[0mvalues\u001b[0m\u001b[1;33m(\u001b[0m\u001b[1;33m)\u001b[0m\u001b[1;33m:\u001b[0m\u001b[1;33m\u001b[0m\u001b[0m\n\u001b[0;32m    491\u001b[0m             \u001b[0mhook_result\u001b[0m \u001b[1;33m=\u001b[0m \u001b[0mhook\u001b[0m\u001b[1;33m(\u001b[0m\u001b[0mself\u001b[0m\u001b[1;33m,\u001b[0m \u001b[0minput\u001b[0m\u001b[1;33m,\u001b[0m \u001b[0mresult\u001b[0m\u001b[1;33m)\u001b[0m\u001b[1;33m\u001b[0m\u001b[0m\n",
      "\u001b[1;32m~\\AppData\\Local\\Continuum\\anaconda3\\lib\\site-packages\\torch\\nn\\modules\\loss.py\u001b[0m in \u001b[0;36mforward\u001b[1;34m(self, input, target)\u001b[0m\n\u001b[0;32m    593\u001b[0m                                                   \u001b[0mself\u001b[0m\u001b[1;33m.\u001b[0m\u001b[0mweight\u001b[0m\u001b[1;33m,\u001b[0m\u001b[1;33m\u001b[0m\u001b[0m\n\u001b[0;32m    594\u001b[0m                                                   \u001b[0mpos_weight\u001b[0m\u001b[1;33m=\u001b[0m\u001b[0mself\u001b[0m\u001b[1;33m.\u001b[0m\u001b[0mpos_weight\u001b[0m\u001b[1;33m,\u001b[0m\u001b[1;33m\u001b[0m\u001b[0m\n\u001b[1;32m--> 595\u001b[1;33m                                                   reduction=self.reduction)\n\u001b[0m\u001b[0;32m    596\u001b[0m \u001b[1;33m\u001b[0m\u001b[0m\n\u001b[0;32m    597\u001b[0m \u001b[1;33m\u001b[0m\u001b[0m\n",
      "\u001b[1;32m~\\AppData\\Local\\Continuum\\anaconda3\\lib\\site-packages\\torch\\nn\\functional.py\u001b[0m in \u001b[0;36mbinary_cross_entropy_with_logits\u001b[1;34m(input, target, weight, size_average, reduce, reduction, pos_weight)\u001b[0m\n\u001b[0;32m   2073\u001b[0m \u001b[1;33m\u001b[0m\u001b[0m\n\u001b[0;32m   2074\u001b[0m     \u001b[1;32mif\u001b[0m \u001b[1;32mnot\u001b[0m \u001b[1;33m(\u001b[0m\u001b[0mtarget\u001b[0m\u001b[1;33m.\u001b[0m\u001b[0msize\u001b[0m\u001b[1;33m(\u001b[0m\u001b[1;33m)\u001b[0m \u001b[1;33m==\u001b[0m \u001b[0minput\u001b[0m\u001b[1;33m.\u001b[0m\u001b[0msize\u001b[0m\u001b[1;33m(\u001b[0m\u001b[1;33m)\u001b[0m\u001b[1;33m)\u001b[0m\u001b[1;33m:\u001b[0m\u001b[1;33m\u001b[0m\u001b[0m\n\u001b[1;32m-> 2075\u001b[1;33m         \u001b[1;32mraise\u001b[0m \u001b[0mValueError\u001b[0m\u001b[1;33m(\u001b[0m\u001b[1;34m\"Target size ({}) must be the same as input size ({})\"\u001b[0m\u001b[1;33m.\u001b[0m\u001b[0mformat\u001b[0m\u001b[1;33m(\u001b[0m\u001b[0mtarget\u001b[0m\u001b[1;33m.\u001b[0m\u001b[0msize\u001b[0m\u001b[1;33m(\u001b[0m\u001b[1;33m)\u001b[0m\u001b[1;33m,\u001b[0m \u001b[0minput\u001b[0m\u001b[1;33m.\u001b[0m\u001b[0msize\u001b[0m\u001b[1;33m(\u001b[0m\u001b[1;33m)\u001b[0m\u001b[1;33m)\u001b[0m\u001b[1;33m)\u001b[0m\u001b[1;33m\u001b[0m\u001b[0m\n\u001b[0m\u001b[0;32m   2076\u001b[0m \u001b[1;33m\u001b[0m\u001b[0m\n\u001b[0;32m   2077\u001b[0m     \u001b[1;32mreturn\u001b[0m \u001b[0mtorch\u001b[0m\u001b[1;33m.\u001b[0m\u001b[0mbinary_cross_entropy_with_logits\u001b[0m\u001b[1;33m(\u001b[0m\u001b[0minput\u001b[0m\u001b[1;33m,\u001b[0m \u001b[0mtarget\u001b[0m\u001b[1;33m,\u001b[0m \u001b[0mweight\u001b[0m\u001b[1;33m,\u001b[0m \u001b[0mpos_weight\u001b[0m\u001b[1;33m,\u001b[0m \u001b[0mreduction_enum\u001b[0m\u001b[1;33m)\u001b[0m\u001b[1;33m\u001b[0m\u001b[0m\n",
      "\u001b[1;31mValueError\u001b[0m: Target size (torch.Size([200])) must be the same as input size (torch.Size([200, 1]))"
     ]
    }
   ],
   "source": [
    "epochs = 1000\n",
    "loss_ = []\n",
    "for epoch in range(epochs):\n",
    "    # 计算 grads and cost\n",
    "    y_pred = model(x_data)\n",
    "    loss = criterion(y_pred, y_data)\n",
    "    loss_.append(loss)\n",
    "    optimizer.zero_grad()\n",
    "    loss.backward()\n",
    "    optimizer.step()\n",
    "    #optimizer.zero_grad()"
   ]
  },
  {
   "cell_type": "code",
   "execution_count": 38,
   "metadata": {},
   "outputs": [
    {
     "name": "stdout",
     "output_type": "stream",
     "text": [
      "predict (after train) tensor([[0., 1.]]) is True\n"
     ]
    }
   ],
   "source": [
    "tmp_test = Variable(torch.Tensor([[0, 1.0]]))\n",
    "tmp_pred = model(tmp_test)\n",
    "print(\"predict (after train)\",tmp_test, \"is\" , 1 / (1 + np.exp(-float(tmp_pred.data))) >0.5)"
   ]
  },
  {
   "cell_type": "code",
   "execution_count": 39,
   "metadata": {},
   "outputs": [
    {
     "name": "stdout",
     "output_type": "stream",
     "text": [
      "tensor([[-5.6192,  2.3973]])\n",
      "tensor([0.9659])\n"
     ]
    }
   ],
   "source": [
    "param_ = []\n",
    "for param in model.parameters():\n",
    "    print(param.data)\n",
    "    param_.append(param.data.numpy())"
   ]
  },
  {
   "cell_type": "code",
   "execution_count": 40,
   "metadata": {},
   "outputs": [],
   "source": [
    "w1 = param_[0][0][0]\n",
    "w2 = param_[0][0][1]\n",
    "b = param_[1][0]"
   ]
  },
  {
   "cell_type": "code",
   "execution_count": 41,
   "metadata": {},
   "outputs": [],
   "source": [
    "line_x = np.arange(10)/10\n",
    "line_y = (-w1*line_x-b)/w2"
   ]
  },
  {
   "cell_type": "code",
   "execution_count": 42,
   "metadata": {},
   "outputs": [
    {
     "data": {
      "image/png": "[encoded data removed]",
      "text/plain": [
       "<matplotlib.figure.Figure at 0x1a55bfb2c18>"
      ]
     },
     "metadata": {},
     "output_type": "display_data"
    }
   ],
   "source": [
    "plt.figure()\n",
    "plt.scatter(x_data.numpy()[:4,0],x_data.numpy()[:4,1] , marker='o', color='red')\n",
    "plt.scatter(x_data.numpy()[4:,0],x_data.numpy()[4:,1] , marker='o', color='blue')\n",
    "plt.plot(line_x,line_y)\n",
    "plt.show()"
   ]
  },
  {
   "cell_type": "code",
   "execution_count": 43,
   "metadata": {},
   "outputs": [],
   "source": [
    "n_data = torch.ones(10, 2)"
   ]
  },
  {
   "cell_type": "code",
   "execution_count": 48,
   "metadata": {},
   "outputs": [
    {
     "data": {
      "text/plain": [
       "tensor([[3., 3.],\n",
       "        [3., 3.],\n",
       "        [3., 3.],\n",
       "        [3., 3.],\n",
       "        [3., 3.],\n",
       "        [3., 3.],\n",
       "        [3., 3.],\n",
       "        [3., 3.],\n",
       "        [3., 3.],\n",
       "        [3., 3.]])"
      ]
     },
     "execution_count": 48,
     "metadata": {},
     "output_type": "execute_result"
    }
   ],
   "source": [
    "n_data+2"
   ]
  },
  {
   "cell_type": "code",
   "execution_count": 45,
   "metadata": {},
   "outputs": [],
   "source": [
    "x0 = torch.normal(2*n_data, 1)"
   ]
  },
  {
   "cell_type": "code",
   "execution_count": 46,
   "metadata": {},
   "outputs": [
    {
     "data": {
      "text/plain": [
       "tensor([[1.3182, 1.4088],\n",
       "        [2.2738, 1.0351],\n",
       "        [1.7007, 3.8793],\n",
       "        [1.9279, 2.1578],\n",
       "        [1.2265, 2.1991],\n",
       "        [2.0457, 2.1530],\n",
       "        [4.6891, 1.8890],\n",
       "        [2.2927, 1.8422],\n",
       "        [1.9712, 4.3571],\n",
       "        [0.9627, 3.5748]])"
      ]
     },
     "execution_count": 46,
     "metadata": {},
     "output_type": "execute_result"
    }
   ],
   "source": [
    "x0"
   ]
  },
  {
   "cell_type": "code",
   "execution_count": null,
   "metadata": {},
   "outputs": [],
   "source": []
  }
 ],
 "metadata": {
  "kernelspec": {
   "display_name": "Python 3",
   "language": "python",
   "name": "python3"
  },
  "language_info": {
   "codemirror_mode": {
    "name": "ipython",
    "version": 3
   },
   "file_extension": ".py",
   "mimetype": "text/x-python",
   "name": "python",
   "nbconvert_exporter": "python",
   "pygments_lexer": "ipython3",
   "version": "3.6.4"
  }
 },
 "nbformat": 4,
 "nbformat_minor": 2
}
