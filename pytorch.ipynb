{
 "cells": [
  {
   "cell_type": "markdown",
   "metadata": {},
   "source": [
    "# task1 PyTorch的基本概念"
   ]
  },
  {
   "cell_type": "markdown",
   "metadata": {},
   "source": [
    "## 安装"
   ]
  },
  {
   "cell_type": "markdown",
   "metadata": {},
   "source": [
    "参考\n",
    "[WIn10+Anaconda 环境下安装 PyTorch 避坑指南](https://blog.csdn.net/red_stone1/article/details/86669362)"
   ]
  },
  {
   "cell_type": "markdown",
   "metadata": {},
   "source": [
    "```\n",
    "# Python 3.6\n",
    "pip3 install https://download.pytorch.org/whl/cpu/torch-1.0.0-cp36-cp36m-win_amd64.whl\n",
    "pip3 install torchvision\n",
    "```"
   ]
  },
  {
   "cell_type": "markdown",
   "metadata": {},
   "source": [
    "虽然本来安装了anaconda，但是最后还是用pip安装成功的，不过没有出现参考文章中import torchvision 报错的情况，直接就成功了"
   ]
  },
  {
   "cell_type": "markdown",
   "metadata": {},
   "source": [
    "## 简单操作"
   ]
  },
  {
   "cell_type": "code",
   "execution_count": 1,
   "metadata": {},
   "outputs": [],
   "source": [
    "import torch\n",
    "import torchvision\n",
    "from __future__ import print_function"
   ]
  },
  {
   "cell_type": "markdown",
   "metadata": {},
   "source": [
    "创建一个没有初始化的5*3矩阵："
   ]
  },
  {
   "cell_type": "code",
   "execution_count": 2,
   "metadata": {},
   "outputs": [
    {
     "name": "stdout",
     "output_type": "stream",
     "text": [
      "tensor([[0.0000e+00, 0.0000e+00, 0.0000e+00],\n",
      "        [0.0000e+00, 0.0000e+00, 0.0000e+00],\n",
      "        [0.0000e+00, 0.0000e+00, 0.0000e+00],\n",
      "        [0.0000e+00, 1.9954e-42, 0.0000e+00],\n",
      "        [0.0000e+00, 4.5918e-39, 0.0000e+00]])\n"
     ]
    }
   ],
   "source": [
    "x = torch.empty(5, 3)\n",
    "print(x)"
   ]
  },
  {
   "cell_type": "markdown",
   "metadata": {},
   "source": [
    "实现一个只有输入层、单隐藏层、输出层的一个神经网络。假设样本数为64个，输入维度为1000，隐藏层为100，输出层为10。\n",
    "\n",
    "参考[简单神经网络在Numpy和Pytorch上的实现](https://blog.csdn.net/herosunly/article/details/88949873)"
   ]
  },
  {
   "cell_type": "code",
   "execution_count": 3,
   "metadata": {},
   "outputs": [
    {
     "name": "stdout",
     "output_type": "stream",
     "text": [
      "times is 0, loss is 34065888.0\n",
      "times is 1, loss is 30229440.0\n",
      "times is 2, loss is 28483566.0\n",
      "times is 3, loss is 24804638.0\n",
      "times is 4, loss is 18802664.0\n",
      "times is 5, loss is 12300524.0\n",
      "times is 6, loss is 7318300.0\n",
      "times is 7, loss is 4228448.5\n",
      "times is 8, loss is 2541818.0\n",
      "times is 9, loss is 1648164.25\n",
      "times is 10, loss is 1162863.625\n",
      "times is 11, loss is 879730.0625\n",
      "times is 12, loss is 699528.125\n",
      "times is 13, loss is 574474.0625\n",
      "times is 14, loss is 481537.6875\n",
      "times is 15, loss is 409098.03125\n",
      "times is 16, loss is 350820.1875\n",
      "times is 17, loss is 302990.9375\n",
      "times is 18, loss is 263169.0\n",
      "times is 19, loss is 229747.734375\n",
      "times is 20, loss is 201408.921875\n",
      "times is 21, loss is 177196.46875\n",
      "times is 22, loss is 156404.140625\n",
      "times is 23, loss is 138464.75\n",
      "times is 24, loss is 122931.375\n",
      "times is 25, loss is 109421.5\n",
      "times is 26, loss is 97633.984375\n",
      "times is 27, loss is 87308.609375\n",
      "times is 28, loss is 78245.765625\n",
      "times is 29, loss is 70264.859375\n",
      "times is 30, loss is 63218.96484375\n",
      "times is 31, loss is 56981.41796875\n",
      "times is 32, loss is 51446.37890625\n",
      "times is 33, loss is 46522.15625\n",
      "times is 34, loss is 42140.234375\n",
      "times is 35, loss is 38227.7890625\n",
      "times is 36, loss is 34727.2265625\n",
      "times is 37, loss is 31587.109375\n",
      "times is 38, loss is 28765.30078125\n",
      "times is 39, loss is 26227.64453125\n",
      "times is 40, loss is 23941.892578125\n",
      "times is 41, loss is 21879.947265625\n",
      "times is 42, loss is 20015.794921875\n",
      "times is 43, loss is 18328.408203125\n",
      "times is 44, loss is 16799.40625\n",
      "times is 45, loss is 15411.7158203125\n",
      "times is 46, loss is 14150.7939453125\n",
      "times is 47, loss is 13003.361328125\n",
      "times is 48, loss is 11958.5625\n",
      "times is 49, loss is 11006.3046875\n",
      "times is 50, loss is 10137.412109375\n",
      "times is 51, loss is 9343.9453125\n",
      "times is 52, loss is 8618.41796875\n",
      "times is 53, loss is 7954.19775390625\n",
      "times is 54, loss is 7345.767578125\n",
      "times is 55, loss is 6788.3232421875\n",
      "times is 56, loss is 6276.9580078125\n",
      "times is 57, loss is 5807.44384765625\n",
      "times is 58, loss is 5375.68408203125\n",
      "times is 59, loss is 4978.6904296875\n",
      "times is 60, loss is 4613.509765625\n",
      "times is 61, loss is 4277.28515625\n",
      "times is 62, loss is 3967.40087890625\n",
      "times is 63, loss is 3681.798583984375\n",
      "times is 64, loss is 3418.3671875\n",
      "times is 65, loss is 3175.17578125\n",
      "times is 66, loss is 2950.63720703125\n",
      "times is 67, loss is 2743.033203125\n",
      "times is 68, loss is 2551.088134765625\n",
      "times is 69, loss is 2373.5029296875\n",
      "times is 70, loss is 2209.14501953125\n",
      "times is 71, loss is 2057.0810546875\n",
      "times is 72, loss is 1916.146484375\n",
      "times is 73, loss is 1785.4920654296875\n",
      "times is 74, loss is 1664.395751953125\n",
      "times is 75, loss is 1552.04736328125\n",
      "times is 76, loss is 1447.7706298828125\n",
      "times is 77, loss is 1350.914794921875\n",
      "times is 78, loss is 1260.9747314453125\n",
      "times is 79, loss is 1177.378173828125\n",
      "times is 80, loss is 1099.64208984375\n",
      "times is 81, loss is 1027.3504638671875\n",
      "times is 82, loss is 960.090576171875\n",
      "times is 83, loss is 897.50634765625\n",
      "times is 84, loss is 839.2085571289062\n",
      "times is 85, loss is 784.9138793945312\n",
      "times is 86, loss is 734.3604125976562\n",
      "times is 87, loss is 687.2532348632812\n",
      "times is 88, loss is 643.3048095703125\n",
      "times is 89, loss is 602.322021484375\n",
      "times is 90, loss is 564.0863647460938\n",
      "times is 91, loss is 528.4114990234375\n",
      "times is 92, loss is 495.10894775390625\n",
      "times is 93, loss is 464.00299072265625\n",
      "times is 94, loss is 434.9557189941406\n",
      "times is 95, loss is 407.813720703125\n",
      "times is 96, loss is 382.4444274902344\n",
      "times is 97, loss is 358.7283630371094\n",
      "times is 98, loss is 336.5594787597656\n",
      "times is 99, loss is 315.83465576171875\n"
     ]
    }
   ],
   "source": [
    "num_samples = 64 # N\n",
    "dim_in, dim_hid, dim_out = 1000, 100, 10  # IN H OUT\n",
    "x = torch.randn(num_samples, dim_in)  #  N * IN\n",
    "y = torch.randn(num_samples, dim_out) #  N * OUT\n",
    "\n",
    "w1 = torch.randn(dim_in, dim_hid)     # IN * H\n",
    "w2 = torch.randn(dim_hid, dim_out)    #  H * OUT\n",
    "\n",
    "eta = 1e-6\n",
    "for i in range(100):\n",
    "    #Forward pass\n",
    "    h = x @ w1                              # N * H\n",
    "    h_relu = h.clamp(min = 0)               # N * H\n",
    "    y_pred = h_relu @ w2                    # N * OUT\n",
    "\n",
    "    #Loss\n",
    "    loss = (y_pred - y).pow(2).sum().item()\n",
    "    print('times is {}, loss is {}'.format(i, loss))\n",
    "\n",
    "    #Backward pass\n",
    "    grad_y_pred = 2.0 * (y_pred - y)        # N * OUT\n",
    "    grad_w2 = (h_relu.t()) @ (grad_y_pred) #H * OUT = (H * N) * (N * OUT)，其中(H * N) = (N * H).T\n",
    "\n",
    "    grad_h_relu = grad_y_pred @ ((w2.t()))# N * H = (N * OUT) * (OUT * H)，其中(OUT * H) = (H * OUT).T\n",
    "    grad_h = grad_h_relu.clone()\n",
    "    grad_h[h < 0] = 0\n",
    "\n",
    "    grad_w1 = (x.t()) @ (grad_h)  # IN * H = （IN * N） * (N * H)\n",
    "\n",
    "    w1 = w1 - eta * grad_w1\n",
    "    w2 = w2 - eta * grad_w2"
   ]
  },
  {
   "cell_type": "markdown",
   "metadata": {
    "collapsed": true
   },
   "source": [
    "# task2 设立计算图并自动计算"
   ]
  },
  {
   "cell_type": "markdown",
   "metadata": {},
   "source": [
    "## 一、线性回归 y = w1*x1 + w2*x2"
   ]
  },
  {
   "cell_type": "code",
   "execution_count": 4,
   "metadata": {},
   "outputs": [],
   "source": [
    "w1 = 4\n",
    "w2 = -3"
   ]
  },
  {
   "cell_type": "markdown",
   "metadata": {},
   "source": [
    "$\\operatorname{loss}=\\frac{1}{2n}\\sum_{i=1}^{n}\\left(\\hat{y}_{i}-y_{i}\\right)^{2}$"
   ]
  },
  {
   "cell_type": "markdown",
   "metadata": {},
   "source": [
    "$\\frac{dloss}{d w_{1}}=\\frac{1}{n}\\sum_{i=1}^{n}\\left(\\hat{y}_{i}-y_{i}\\right) \\cdot x_{1_{i}}$"
   ]
  },
  {
   "cell_type": "markdown",
   "metadata": {},
   "source": [
    "$\\frac{dloss}{d w_{2}}=\\frac{1}{n}\\sum_{i=1}^{n}\\left(\\hat{y}_{i}-y_{i}\\right) \\cdot x_{2_{i}}$"
   ]
  },
  {
   "cell_type": "markdown",
   "metadata": {},
   "source": [
    "### 1、numpy方式"
   ]
  },
  {
   "cell_type": "code",
   "execution_count": 5,
   "metadata": {},
   "outputs": [],
   "source": [
    "import numpy as np\n",
    "import matplotlib.pyplot as plt"
   ]
  },
  {
   "cell_type": "code",
   "execution_count": 6,
   "metadata": {},
   "outputs": [],
   "source": [
    "x_data = np.array([[1,2,3],\n",
    "                   [3,1,2]])\n",
    "y_data = w1 * x_data[0] + w2 * x_data[1]"
   ]
  },
  {
   "cell_type": "code",
   "execution_count": 7,
   "metadata": {},
   "outputs": [
    {
     "data": {
      "text/plain": [
       "array([-5,  5,  6])"
      ]
     },
     "execution_count": 7,
     "metadata": {},
     "output_type": "execute_result"
    }
   ],
   "source": [
    "y_data"
   ]
  },
  {
   "cell_type": "code",
   "execution_count": 8,
   "metadata": {},
   "outputs": [],
   "source": [
    "epochs = 10\n",
    "rate = 0.1\n",
    "w1_ = 0\n",
    "w2_ = 0\n",
    "cost = []"
   ]
  },
  {
   "cell_type": "code",
   "execution_count": 9,
   "metadata": {},
   "outputs": [
    {
     "name": "stdout",
     "output_type": "stream",
     "text": [
      "0.7666666666666667 0.06666666666666667\n",
      "1.1511111111111112 -0.17888888888888888\n",
      "1.4461851851851852 -0.4508148148148148\n",
      "1.7032641975308642 -0.7040358024691358\n",
      "1.9332206995884773 -0.9333493004115226\n",
      "2.1399457832647464 -1.1399672167352537\n",
      "2.3259590638774577 -1.3259626361225423\n",
      "2.4933644673129094 -1.4933650626870905\n",
      "2.6440282388854848 -1.6440283381145149\n",
      "2.7796254513809138 -1.7796254679190857\n"
     ]
    }
   ],
   "source": [
    "for epoch in range(epochs):\n",
    "    y_ = w1_ * x_data[0] + w2_ * x_data[1]\n",
    "    #print(y_)\n",
    "    #计算损失\n",
    "    loss = np.average((y_ - y_data)**2)/2.0\n",
    "    cost.append(loss)\n",
    "    \n",
    "    #计算梯度\n",
    "    dw1 = (y_ - y_data) @ x_data[0].T/(x_data.shape[1])\n",
    "    dw2 = (y_ - y_data) @ x_data[1].T/(x_data.shape[1])\n",
    "    #print(dw1,dw2)\n",
    "    #参数更新\n",
    "    w1_ = w1_ - rate * dw1\n",
    "    w2_ = w2_ - rate * dw2\n",
    "    print(w1_,w2_)"
   ]
  },
  {
   "cell_type": "code",
   "execution_count": 10,
   "metadata": {},
   "outputs": [
    {
     "data": {
      "image/png": "[encoded data removed]",
      "text/plain": [
       "<matplotlib.figure.Figure at 0x1c203a9a588>"
      ]
     },
     "metadata": {},
     "output_type": "display_data"
    }
   ],
   "source": [
    "plt.figure()\n",
    "plt.plot(range(epochs), cost)\n",
    "plt.title(u\"loss change\")\n",
    "plt.show()"
   ]
  },
  {
   "cell_type": "markdown",
   "metadata": {},
   "source": [
    "### 2、torch 方式"
   ]
  },
  {
   "cell_type": "code",
   "execution_count": 11,
   "metadata": {},
   "outputs": [],
   "source": [
    "from torch.autograd import Variable"
   ]
  },
  {
   "cell_type": "code",
   "execution_count": 12,
   "metadata": {},
   "outputs": [
    {
     "data": {
      "text/plain": [
       "<torch._C.Generator at 0x1c20001e810>"
      ]
     },
     "execution_count": 12,
     "metadata": {},
     "output_type": "execute_result"
    }
   ],
   "source": [
    "torch.manual_seed(2)"
   ]
  },
  {
   "cell_type": "code",
   "execution_count": 13,
   "metadata": {
    "scrolled": true
   },
   "outputs": [],
   "source": [
    "x_data = Variable(torch.Tensor([[1.0,3.0],[2.0,1.0],[3.0,2.0]]))\n",
    "y_data = Variable(torch.Tensor([[-5.0],[5.0],[6.0]]))"
   ]
  },
  {
   "cell_type": "code",
   "execution_count": 14,
   "metadata": {},
   "outputs": [
    {
     "data": {
      "text/plain": [
       "tensor([[1., 3.],\n",
       "        [2., 1.],\n",
       "        [3., 2.]])"
      ]
     },
     "execution_count": 14,
     "metadata": {},
     "output_type": "execute_result"
    }
   ],
   "source": [
    "x_data"
   ]
  },
  {
   "cell_type": "code",
   "execution_count": 15,
   "metadata": {},
   "outputs": [
    {
     "data": {
      "text/plain": [
       "tensor([[-5.],\n",
       "        [ 5.],\n",
       "        [ 6.]])"
      ]
     },
     "execution_count": 15,
     "metadata": {},
     "output_type": "execute_result"
    }
   ],
   "source": [
    "y_data"
   ]
  },
  {
   "cell_type": "code",
   "execution_count": 16,
   "metadata": {},
   "outputs": [],
   "source": [
    "epochs = 10\n",
    "rate = 0.1\n",
    "w = Variable(torch.FloatTensor([[0],[0]]))\n",
    "w.requires_grad_(True)\n",
    "cost = []"
   ]
  },
  {
   "cell_type": "code",
   "execution_count": 17,
   "metadata": {},
   "outputs": [
    {
     "name": "stdout",
     "output_type": "stream",
     "text": [
      "tensor([[0.7667],\n",
      "        [0.0667]])\n",
      "tensor([[ 1.1511],\n",
      "        [-0.1789]])\n",
      "tensor([[ 1.4462],\n",
      "        [-0.4508]])\n",
      "tensor([[ 1.7033],\n",
      "        [-0.7040]])\n",
      "tensor([[ 1.9332],\n",
      "        [-0.9333]])\n",
      "tensor([[ 2.1399],\n",
      "        [-1.1400]])\n",
      "tensor([[ 2.3260],\n",
      "        [-1.3260]])\n",
      "tensor([[ 2.4934],\n",
      "        [-1.4934]])\n",
      "tensor([[ 2.6440],\n",
      "        [-1.6440]])\n",
      "tensor([[ 2.7796],\n",
      "        [-1.7796]])\n"
     ]
    }
   ],
   "source": [
    "for epoch in range(epochs):\n",
    "    y_ = x_data.mm(w)\n",
    "    #print(y_)\n",
    "    loss = ((y_ - y_data)**2).mean()/2.0\n",
    "    cost.append(float(loss.data))\n",
    "    loss.backward()\n",
    "    w.data = w.data - rate * w.grad.data\n",
    "    \n",
    "    #print(w.grad.data)\n",
    "    #这一步很关键，必须清零，因为 .grad这个属性值是累加的\n",
    "    w.grad.data.zero_()\n",
    "    print(w.data)"
   ]
  },
  {
   "cell_type": "code",
   "execution_count": 18,
   "metadata": {
    "scrolled": false
   },
   "outputs": [
    {
     "data": {
      "image/png": "[encoded data removed]",
      "text/plain": [
       "<matplotlib.figure.Figure at 0x1c203afbdd8>"
      ]
     },
     "metadata": {},
     "output_type": "display_data"
    }
   ],
   "source": [
    "plt.figure()\n",
    "plt.plot(range(epochs), cost)\n",
    "plt.title(u\"loss change\")\n",
    "plt.show()"
   ]
  },
  {
   "cell_type": "markdown",
   "metadata": {},
   "source": [
    "# task3 PyTorch实现Logistic regression"
   ]
  },
  {
   "cell_type": "markdown",
   "metadata": {},
   "source": [
    "参考[Pytorch实现逻辑回归](https://blog.csdn.net/herosunly/article/details/89130368)"
   ]
  },
  {
   "cell_type": "markdown",
   "metadata": {},
   "source": [
    "## 公式推导"
   ]
  },
  {
   "cell_type": "markdown",
   "metadata": {},
   "source": [
    "$\\hat{y}_{i}=\\frac{1}{1+e^{-\\left(w \\cdot x_{i}+b\\right)}}$"
   ]
  },
  {
   "cell_type": "markdown",
   "metadata": {},
   "source": [
    "极大似然思想\n",
    "\n",
    "$maxL=\\prod_{i=1}^{N} \\hat{y}_{i}^{y_{i}} \\cdot\\left(1-\\hat{y}_{i}\\right)^{\\left(1-{y_{i}}\\right)}$"
   ]
  },
  {
   "cell_type": "markdown",
   "metadata": {},
   "source": [
    "$max\\ln L=\\sum_{i=1}^{N} y_{i} \\ln \\hat{y}_{i}+\\left(1-y_{i}\\right) \\ln \\left(1-\\hat{y}_{i}\\right)$"
   ]
  },
  {
   "cell_type": "markdown",
   "metadata": {},
   "source": [
    "$\\max \\ln L=\\min(-\\ln L)$"
   ]
  },
  {
   "cell_type": "markdown",
   "metadata": {},
   "source": [
    "## 一、PyTorch基础实现代码"
   ]
  },
  {
   "cell_type": "code",
   "execution_count": 19,
   "metadata": {},
   "outputs": [
    {
     "data": {
      "text/plain": [
       "<torch._C.Generator at 0x1c20001e810>"
      ]
     },
     "execution_count": 19,
     "metadata": {},
     "output_type": "execute_result"
    }
   ],
   "source": [
    "import torch\n",
    "import random\n",
    "import numpy as np\n",
    "import matplotlib.pyplot as plt\n",
    "\n",
    "seed = 1\n",
    "\n",
    "random.seed(seed)\n",
    "np.random.seed(seed)\n",
    "torch.manual_seed(seed)"
   ]
  },
  {
   "cell_type": "code",
   "execution_count": 20,
   "metadata": {},
   "outputs": [],
   "source": [
    "x_data = Variable(torch.Tensor([[0.1,0.3],[0.2,0.6],[0.2,0.8],[0.4,0.7],[0.4,0.2],[0.6,0.4],[0.6,0.6],[0.8,0.8],[1,0.4]]))\n",
    "y_data = Variable(torch.Tensor([[1],[1],[1],[1],[0],[0],[0],[0],[0]]))"
   ]
  },
  {
   "cell_type": "code",
   "execution_count": 21,
   "metadata": {},
   "outputs": [
    {
     "data": {
      "text/plain": [
       "array([0.1, 0.2, 0.2, 0.4], dtype=float32)"
      ]
     },
     "execution_count": 21,
     "metadata": {},
     "output_type": "execute_result"
    }
   ],
   "source": [
    "x_data.numpy()[:4,0]"
   ]
  },
  {
   "cell_type": "code",
   "execution_count": 22,
   "metadata": {},
   "outputs": [
    {
     "data": {
      "text/plain": [
       "tensor([[0.1000, 0.3000],\n",
       "        [0.2000, 0.6000],\n",
       "        [0.2000, 0.8000],\n",
       "        [0.4000, 0.7000],\n",
       "        [0.4000, 0.2000],\n",
       "        [0.6000, 0.4000],\n",
       "        [0.6000, 0.6000],\n",
       "        [0.8000, 0.8000],\n",
       "        [1.0000, 0.4000]])"
      ]
     },
     "execution_count": 22,
     "metadata": {},
     "output_type": "execute_result"
    }
   ],
   "source": [
    "x_data"
   ]
  },
  {
   "cell_type": "code",
   "execution_count": 23,
   "metadata": {},
   "outputs": [
    {
     "data": {
      "text/plain": [
       "tensor([[1.],\n",
       "        [1.],\n",
       "        [1.],\n",
       "        [1.],\n",
       "        [0.],\n",
       "        [0.],\n",
       "        [0.],\n",
       "        [0.],\n",
       "        [0.]])"
      ]
     },
     "execution_count": 23,
     "metadata": {},
     "output_type": "execute_result"
    }
   ],
   "source": [
    "y_data"
   ]
  },
  {
   "cell_type": "code",
   "execution_count": 29,
   "metadata": {},
   "outputs": [],
   "source": [
    "dim_in = x_data.shape[1] # IN\n",
    "dim_out = 1  # OUT\n",
    "\n",
    "w = torch.randn(dim_in, dim_out, requires_grad=True)     # IN * OUT\n",
    "b = torch.randn(dim_out, requires_grad=True)                  #bias，偏置项\n",
    "\n",
    "eta = 0.1\n",
    "epochs = 100\n",
    "loss_ = []\n",
    "for epoch in range(epochs):\n",
    "    #Forward pass\n",
    "    h = x_data @ w + b                                                    \n",
    "    y_pred = 1 / (1 + torch.exp(-h))                                    #sigmod激活函数\n",
    "\n",
    "    #Loss\n",
    "    loss = -torch.sum(y_data * torch.log(y_pred) + (1 - y_data) * torch.log(1 - y_pred)) \n",
    "    #print('epoch is {}, loss is {}'.format(epoch, loss.item()))\n",
    "    loss_.append(float(loss.data))\n",
    "    loss.backward()\n",
    "\n",
    "    w.data = w.data - eta * w.grad.data\n",
    "    b.data = b.data - eta * b.grad.data\n",
    "    w.grad.data.zero_()\n",
    "    b.grad.data.zero_()"
   ]
  },
  {
   "cell_type": "code",
   "execution_count": 30,
   "metadata": {},
   "outputs": [
    {
     "data": {
      "text/plain": [
       "tensor([[-5.0690],\n",
       "        [ 2.1265]], requires_grad=True)"
      ]
     },
     "execution_count": 30,
     "metadata": {},
     "output_type": "execute_result"
    }
   ],
   "source": [
    "w"
   ]
  },
  {
   "cell_type": "code",
   "execution_count": 31,
   "metadata": {},
   "outputs": [
    {
     "data": {
      "text/plain": [
       "tensor([0.8741], requires_grad=True)"
      ]
     },
     "execution_count": 31,
     "metadata": {},
     "output_type": "execute_result"
    }
   ],
   "source": [
    "b"
   ]
  },
  {
   "cell_type": "code",
   "execution_count": 46,
   "metadata": {},
   "outputs": [],
   "source": [
    "w = w*-1\n",
    "b = b*-1"
   ]
  },
  {
   "cell_type": "code",
   "execution_count": 47,
   "metadata": {},
   "outputs": [
    {
     "data": {
      "text/plain": [
       "tensor([[ 5.0690],\n",
       "        [-2.1265]], grad_fn=<MulBackward0>)"
      ]
     },
     "execution_count": 47,
     "metadata": {},
     "output_type": "execute_result"
    }
   ],
   "source": [
    "w"
   ]
  },
  {
   "cell_type": "code",
   "execution_count": 48,
   "metadata": {},
   "outputs": [
    {
     "data": {
      "text/plain": [
       "tensor([-0.8741], grad_fn=<MulBackward0>)"
      ]
     },
     "execution_count": 48,
     "metadata": {},
     "output_type": "execute_result"
    }
   ],
   "source": [
    "b"
   ]
  },
  {
   "cell_type": "code",
   "execution_count": 49,
   "metadata": {},
   "outputs": [],
   "source": [
    "line_x = np.arange(10)/10\n",
    "line_y = (-w.data.numpy()[0]*line_x-b.data.numpy()[0])/w.data.numpy()[1]"
   ]
  },
  {
   "cell_type": "code",
   "execution_count": 50,
   "metadata": {},
   "outputs": [
    {
     "data": {
      "image/png": "[encoded data removed]",
      "text/plain": [
       "<matplotlib.figure.Figure at 0x1c203c550b8>"
      ]
     },
     "metadata": {},
     "output_type": "display_data"
    }
   ],
   "source": [
    "plt.figure()\n",
    "plt.scatter(x_data.numpy()[:4,0],x_data.numpy()[:4,1] , marker='o', color='red')\n",
    "plt.scatter(x_data.numpy()[4:,0],x_data.numpy()[4:,1] , marker='o', color='blue')\n",
    "plt.plot(line_x,line_y)\n",
    "plt.show()"
   ]
  },
  {
   "cell_type": "code",
   "execution_count": 37,
   "metadata": {},
   "outputs": [],
   "source": [
    "def get_value(w,b,point):\n",
    "    result = w.data.numpy()[0] * point[0] + w.data.numpy()[1] * point[1] + b.data.numpy()[0]\n",
    "    return result"
   ]
  },
  {
   "cell_type": "code",
   "execution_count": 55,
   "metadata": {},
   "outputs": [],
   "source": [
    "point = [0.2,1]"
   ]
  },
  {
   "cell_type": "code",
   "execution_count": 56,
   "metadata": {},
   "outputs": [
    {
     "data": {
      "text/plain": [
       "array([-1.9868929], dtype=float32)"
      ]
     },
     "execution_count": 56,
     "metadata": {},
     "output_type": "execute_result"
    }
   ],
   "source": [
    "get_value(w,b,point)"
   ]
  },
  {
   "cell_type": "code",
   "execution_count": 51,
   "metadata": {},
   "outputs": [
    {
     "data": {
      "text/plain": [
       "tensor([[ 5.0690],\n",
       "        [-2.1265]], grad_fn=<MulBackward0>)"
      ]
     },
     "execution_count": 51,
     "metadata": {},
     "output_type": "execute_result"
    }
   ],
   "source": [
    "w"
   ]
  },
  {
   "cell_type": "code",
   "execution_count": 52,
   "metadata": {},
   "outputs": [
    {
     "data": {
      "text/plain": [
       "tensor([-0.8741], grad_fn=<MulBackward0>)"
      ]
     },
     "execution_count": 52,
     "metadata": {},
     "output_type": "execute_result"
    }
   ],
   "source": [
    "b"
   ]
  },
  {
   "cell_type": "code",
   "execution_count": null,
   "metadata": {},
   "outputs": [],
   "source": []
  }
 ],
 "metadata": {
  "kernelspec": {
   "display_name": "Python 3",
   "language": "python",
   "name": "python3"
  },
  "language_info": {
   "codemirror_mode": {
    "name": "ipython",
    "version": 3
   },
   "file_extension": ".py",
   "mimetype": "text/x-python",
   "name": "python",
   "nbconvert_exporter": "python",
   "pygments_lexer": "ipython3",
   "version": "3.6.4"
  }
 },
 "nbformat": 4,
 "nbformat_minor": 2
}
