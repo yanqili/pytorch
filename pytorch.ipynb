{
 "cells": [
  {
   "cell_type": "markdown",
   "metadata": {},
   "source": [
    "# task1 PyTorch的基本概念"
   ]
  },
  {
   "cell_type": "markdown",
   "metadata": {},
   "source": [
    "## 安装"
   ]
  },
  {
   "cell_type": "markdown",
   "metadata": {},
   "source": [
    "参考\n",
    "[WIn10+Anaconda 环境下安装 PyTorch 避坑指南](https://blog.csdn.net/red_stone1/article/details/86669362)"
   ]
  },
  {
   "cell_type": "markdown",
   "metadata": {},
   "source": [
    "```\n",
    "# Python 3.6\n",
    "pip3 install https://download.pytorch.org/whl/cpu/torch-1.0.0-cp36-cp36m-win_amd64.whl\n",
    "pip3 install torchvision\n",
    "```"
   ]
  },
  {
   "cell_type": "markdown",
   "metadata": {},
   "source": [
    "虽然本来安装了anaconda，但是最后还是用pip安装成功的，不过没有出现参考文章中import torchvision 报错的情况，直接就成功了"
   ]
  },
  {
   "cell_type": "markdown",
   "metadata": {},
   "source": [
    "## 简单操作"
   ]
  },
  {
   "cell_type": "code",
   "execution_count": 17,
   "metadata": {},
   "outputs": [],
   "source": [
    "import torch\n",
    "import torchvision\n",
    "from __future__ import print_function"
   ]
  },
  {
   "cell_type": "markdown",
   "metadata": {},
   "source": [
    "创建一个没有初始化的5*3矩阵："
   ]
  },
  {
   "cell_type": "code",
   "execution_count": 4,
   "metadata": {},
   "outputs": [
    {
     "name": "stdout",
     "output_type": "stream",
     "text": [
      "tensor([[0.0000e+00, 0.0000e+00, 1.9394e-42],\n",
      "        [0.0000e+00, 7.0065e-45, 0.0000e+00],\n",
      "        [1.2243e-32, 7.6231e-43, 0.0000e+00],\n",
      "        [0.0000e+00, 1.8368e-40, 0.0000e+00],\n",
      "        [1.2271e-32, 7.6231e-43, 0.0000e+00]])\n"
     ]
    }
   ],
   "source": [
    "x = torch.empty(5, 3)\n",
    "print(x)"
   ]
  },
  {
   "cell_type": "markdown",
   "metadata": {},
   "source": [
    "实现一个只有输入层、单隐藏层、输出层的一个神经网络。假设样本数为64个，输入维度为1000，隐藏层为100，输出层为10。\n",
    "\n",
    "参考[简单神经网络在Numpy和Pytorch上的实现](https://blog.csdn.net/herosunly/article/details/88949873)"
   ]
  },
  {
   "cell_type": "code",
   "execution_count": 5,
   "metadata": {},
   "outputs": [
    {
     "name": "stdout",
     "output_type": "stream",
     "text": [
      "times is 0, loss is 35796332.0\n",
      "times is 1, loss is 33882276.0\n",
      "times is 2, loss is 37255088.0\n",
      "times is 3, loss is 38358232.0\n",
      "times is 4, loss is 32414816.0\n",
      "times is 5, loss is 20876616.0\n",
      "times is 6, loss is 10788002.0\n",
      "times is 7, loss is 5110846.0\n",
      "times is 8, loss is 2648155.75\n",
      "times is 9, loss is 1628313.0\n",
      "times is 10, loss is 1166648.125\n",
      "times is 11, loss is 916277.375\n",
      "times is 12, loss is 753955.5625\n",
      "times is 13, loss is 634853.8125\n",
      "times is 14, loss is 541507.3125\n",
      "times is 15, loss is 465717.28125\n",
      "times is 16, loss is 402981.40625\n",
      "times is 17, loss is 350550.125\n",
      "times is 18, loss is 306293.8125\n",
      "times is 19, loss is 268657.5625\n",
      "times is 20, loss is 236419.875\n",
      "times is 21, loss is 208721.890625\n",
      "times is 22, loss is 184855.78125\n",
      "times is 23, loss is 164170.921875\n",
      "times is 24, loss is 146209.078125\n",
      "times is 25, loss is 130524.1015625\n",
      "times is 26, loss is 116799.9140625\n",
      "times is 27, loss is 104769.3125\n",
      "times is 28, loss is 94199.78125\n",
      "times is 29, loss is 84857.015625\n",
      "times is 30, loss is 76571.7265625\n",
      "times is 31, loss is 69214.765625\n",
      "times is 32, loss is 62675.04296875\n",
      "times is 33, loss is 56838.11328125\n",
      "times is 34, loss is 51619.3359375\n",
      "times is 35, loss is 46939.875\n",
      "times is 36, loss is 42738.93359375\n",
      "times is 37, loss is 38962.37109375\n",
      "times is 38, loss is 35566.3125\n",
      "times is 39, loss is 32502.474609375\n",
      "times is 40, loss is 29744.873046875\n",
      "times is 41, loss is 27257.599609375\n",
      "times is 42, loss is 25004.0546875\n",
      "times is 43, loss is 22961.93359375\n",
      "times is 44, loss is 21108.76953125\n",
      "times is 45, loss is 19423.50390625\n",
      "times is 46, loss is 17888.99609375\n",
      "times is 47, loss is 16491.20703125\n",
      "times is 48, loss is 15215.818359375\n",
      "times is 49, loss is 14050.8330078125\n",
      "times is 50, loss is 12985.208984375\n",
      "times is 51, loss is 12009.5615234375\n",
      "times is 52, loss is 11116.0625\n",
      "times is 53, loss is 10296.8525390625\n",
      "times is 54, loss is 9544.3544921875\n",
      "times is 55, loss is 8853.765625\n",
      "times is 56, loss is 8218.3359375\n",
      "times is 57, loss is 7633.66162109375\n",
      "times is 58, loss is 7095.04541015625\n",
      "times is 59, loss is 6598.58544921875\n",
      "times is 60, loss is 6140.67626953125\n",
      "times is 61, loss is 5717.6943359375\n",
      "times is 62, loss is 5326.96484375\n",
      "times is 63, loss is 4966.05224609375\n",
      "times is 64, loss is 4631.83447265625\n",
      "times is 65, loss is 4322.30908203125\n",
      "times is 66, loss is 4035.695556640625\n",
      "times is 67, loss is 3769.9033203125\n",
      "times is 68, loss is 3523.357177734375\n",
      "times is 69, loss is 3294.660400390625\n",
      "times is 70, loss is 3082.13720703125\n",
      "times is 71, loss is 2884.68505859375\n",
      "times is 72, loss is 2701.02685546875\n",
      "times is 73, loss is 2530.152099609375\n",
      "times is 74, loss is 2371.12939453125\n",
      "times is 75, loss is 2222.96044921875\n",
      "times is 76, loss is 2085.17578125\n",
      "times is 77, loss is 1956.5927734375\n",
      "times is 78, loss is 1836.819580078125\n",
      "times is 79, loss is 1725.016357421875\n",
      "times is 80, loss is 1620.66650390625\n",
      "times is 81, loss is 1523.14697265625\n",
      "times is 82, loss is 1431.993896484375\n",
      "times is 83, loss is 1346.762939453125\n",
      "times is 84, loss is 1267.0291748046875\n",
      "times is 85, loss is 1192.3726806640625\n",
      "times is 86, loss is 1122.4849853515625\n",
      "times is 87, loss is 1057.01513671875\n",
      "times is 88, loss is 995.66455078125\n",
      "times is 89, loss is 938.1656494140625\n",
      "times is 90, loss is 884.2353515625\n",
      "times is 91, loss is 833.6364135742188\n",
      "times is 92, loss is 786.153076171875\n",
      "times is 93, loss is 741.5748291015625\n",
      "times is 94, loss is 699.7113037109375\n",
      "times is 95, loss is 660.37841796875\n",
      "times is 96, loss is 623.4840087890625\n",
      "times is 97, loss is 588.7229614257812\n",
      "times is 98, loss is 556.0479736328125\n",
      "times is 99, loss is 525.2916259765625\n"
     ]
    }
   ],
   "source": [
    "num_samples = 64 # N\n",
    "dim_in, dim_hid, dim_out = 1000, 100, 10  # IN H OUT\n",
    "x = torch.randn(num_samples, dim_in)  #  N * IN\n",
    "y = torch.randn(num_samples, dim_out) #  N * OUT\n",
    "\n",
    "w1 = torch.randn(dim_in, dim_hid)     # IN * H\n",
    "w2 = torch.randn(dim_hid, dim_out)    #  H * OUT\n",
    "\n",
    "eta = 1e-6\n",
    "for i in range(100):\n",
    "    #Forward pass\n",
    "    h = x @ w1                              # N * H\n",
    "    h_relu = h.clamp(min = 0)               # N * H\n",
    "    y_pred = h_relu @ w2                    # N * OUT\n",
    "\n",
    "    #Loss\n",
    "    loss = (y_pred - y).pow(2).sum().item()\n",
    "    print('times is {}, loss is {}'.format(i, loss))\n",
    "\n",
    "    #Backward pass\n",
    "    grad_y_pred = 2.0 * (y_pred - y)        # N * OUT\n",
    "    grad_w2 = (h_relu.t()) @ (grad_y_pred) #H * OUT = (H * N) * (N * OUT)，其中(H * N) = (N * H).T\n",
    "\n",
    "    grad_h_relu = grad_y_pred @ ((w2.t()))# N * H = (N * OUT) * (OUT * H)，其中(OUT * H) = (H * OUT).T\n",
    "    grad_h = grad_h_relu.clone()\n",
    "    grad_h[h < 0] = 0\n",
    "\n",
    "    grad_w1 = (x.t()) @ (grad_h)  # IN * H = （IN * N） * (N * H)\n",
    "\n",
    "    w1 = w1 - eta * grad_w1\n",
    "    w2 = w2 - eta * grad_w2"
   ]
  },
  {
   "cell_type": "markdown",
   "metadata": {
    "collapsed": true
   },
   "source": [
    "# task2 设立计算图并自动计算"
   ]
  },
  {
   "cell_type": "markdown",
   "metadata": {},
   "source": [
    "## 一、线性回归 y = w1*x1 + w2*x2"
   ]
  },
  {
   "cell_type": "code",
   "execution_count": 8,
   "metadata": {
    "collapsed": true
   },
   "outputs": [],
   "source": [
    "w1 = 4\n",
    "w2 = -3"
   ]
  },
  {
   "cell_type": "markdown",
   "metadata": {},
   "source": [
    "$\\operatorname{loss}=\\frac{1}{2n}\\sum_{i=1}^{n}\\left(\\hat{y}_{i}-y_{i}\\right)^{2}$"
   ]
  },
  {
   "cell_type": "markdown",
   "metadata": {},
   "source": [
    "$\\frac{dloss}{d w_{1}}=\\frac{1}{n}\\sum_{i=1}^{n}\\left(\\hat{y}_{i}-y_{i}\\right) \\cdot x_{1_{i}}$"
   ]
  },
  {
   "cell_type": "markdown",
   "metadata": {},
   "source": [
    "$\\frac{dloss}{d w_{2}}=\\frac{1}{n}\\sum_{i=1}^{n}\\left(\\hat{y}_{i}-y_{i}\\right) \\cdot x_{2_{i}}$"
   ]
  },
  {
   "cell_type": "markdown",
   "metadata": {},
   "source": [
    "### 1、numpy方式"
   ]
  },
  {
   "cell_type": "code",
   "execution_count": 209,
   "metadata": {
    "collapsed": true
   },
   "outputs": [],
   "source": [
    "import numpy as np\n",
    "import matplotlib.pyplot as plt"
   ]
  },
  {
   "cell_type": "code",
   "execution_count": 210,
   "metadata": {},
   "outputs": [],
   "source": [
    "x_data = np.array([[1,2,3],\n",
    "                   [3,1,2]])\n",
    "y_data = w1 * x_data[0] + w2 * x_data[1]"
   ]
  },
  {
   "cell_type": "code",
   "execution_count": 211,
   "metadata": {},
   "outputs": [
    {
     "data": {
      "text/plain": [
       "array([-5,  5,  6])"
      ]
     },
     "execution_count": 211,
     "metadata": {},
     "output_type": "execute_result"
    }
   ],
   "source": [
    "y_data"
   ]
  },
  {
   "cell_type": "code",
   "execution_count": 212,
   "metadata": {
    "collapsed": true
   },
   "outputs": [],
   "source": [
    "epochs = 10\n",
    "rate = 0.1\n",
    "w1_ = 0\n",
    "w2_ = 0\n",
    "cost = []"
   ]
  },
  {
   "cell_type": "code",
   "execution_count": 213,
   "metadata": {},
   "outputs": [
    {
     "name": "stdout",
     "output_type": "stream",
     "text": [
      "0.7666666666666667 0.06666666666666667\n",
      "1.1511111111111112 -0.17888888888888888\n",
      "1.4461851851851852 -0.4508148148148148\n",
      "1.7032641975308642 -0.7040358024691358\n",
      "1.9332206995884773 -0.9333493004115226\n",
      "2.1399457832647464 -1.1399672167352537\n",
      "2.3259590638774577 -1.3259626361225423\n",
      "2.4933644673129094 -1.4933650626870905\n",
      "2.6440282388854848 -1.6440283381145149\n",
      "2.7796254513809138 -1.7796254679190857\n"
     ]
    }
   ],
   "source": [
    "for epoch in range(epochs):\n",
    "    y_ = w1_ * x_data[0] + w2_ * x_data[1]\n",
    "    #print(y_)\n",
    "    #计算损失\n",
    "    loss = np.average((y_ - y_data)**2)/2.0\n",
    "    cost.append(loss)\n",
    "    \n",
    "    #计算梯度\n",
    "    dw1 = (y_ - y_data) @ x_data[0].T/(x_data.shape[1])\n",
    "    dw2 = (y_ - y_data) @ x_data[1].T/(x_data.shape[1])\n",
    "    #print(dw1,dw2)\n",
    "    #参数更新\n",
    "    w1_ = w1_ - rate * dw1\n",
    "    w2_ = w2_ - rate * dw2\n",
    "    print(w1_,w2_)"
   ]
  },
  {
   "cell_type": "code",
   "execution_count": 214,
   "metadata": {},
   "outputs": [
    {
     "data": {
      "image/png": "[encoded data removed]",
      "text/plain": [
       "<matplotlib.figure.Figure at 0x185526603c8>"
      ]
     },
     "metadata": {},
     "output_type": "display_data"
    }
   ],
   "source": [
    "plt.figure()\n",
    "plt.plot(range(epochs), cost)\n",
    "plt.title(u\"loss change\")\n",
    "plt.show()"
   ]
  },
  {
   "cell_type": "markdown",
   "metadata": {},
   "source": [
    "### 2、torch 方式"
   ]
  },
  {
   "cell_type": "code",
   "execution_count": 18,
   "metadata": {},
   "outputs": [],
   "source": [
    "from torch.autograd import Variable"
   ]
  },
  {
   "cell_type": "code",
   "execution_count": 201,
   "metadata": {},
   "outputs": [
    {
     "data": {
      "text/plain": [
       "<torch._C.Generator at 0x1854d8f4710>"
      ]
     },
     "execution_count": 201,
     "metadata": {},
     "output_type": "execute_result"
    }
   ],
   "source": [
    "torch.manual_seed(2)"
   ]
  },
  {
   "cell_type": "code",
   "execution_count": 215,
   "metadata": {
    "scrolled": true
   },
   "outputs": [],
   "source": [
    "x_data = Variable(torch.Tensor([[1.0,3.0],[2.0,1.0],[3.0,2.0]]))\n",
    "y_data = Variable(torch.Tensor([[-5.0],[5.0],[6.0]]))"
   ]
  },
  {
   "cell_type": "code",
   "execution_count": 216,
   "metadata": {},
   "outputs": [
    {
     "data": {
      "text/plain": [
       "tensor([[1., 3.],\n",
       "        [2., 1.],\n",
       "        [3., 2.]])"
      ]
     },
     "execution_count": 216,
     "metadata": {},
     "output_type": "execute_result"
    }
   ],
   "source": [
    "x_data"
   ]
  },
  {
   "cell_type": "code",
   "execution_count": 217,
   "metadata": {},
   "outputs": [
    {
     "data": {
      "text/plain": [
       "tensor([[-5.],\n",
       "        [ 5.],\n",
       "        [ 6.]])"
      ]
     },
     "execution_count": 217,
     "metadata": {},
     "output_type": "execute_result"
    }
   ],
   "source": [
    "y_data"
   ]
  },
  {
   "cell_type": "code",
   "execution_count": 227,
   "metadata": {},
   "outputs": [],
   "source": [
    "epochs = 10\n",
    "rate = 0.1\n",
    "w = Variable(torch.FloatTensor([[0],[0]]))\n",
    "w.requires_grad_(True)\n",
    "cost = []"
   ]
  },
  {
   "cell_type": "code",
   "execution_count": 228,
   "metadata": {},
   "outputs": [
    {
     "name": "stdout",
     "output_type": "stream",
     "text": [
      "tensor([[0.7667],\n",
      "        [0.0667]])\n",
      "tensor([[ 1.1511],\n",
      "        [-0.1789]])\n",
      "tensor([[ 1.4462],\n",
      "        [-0.4508]])\n",
      "tensor([[ 1.7033],\n",
      "        [-0.7040]])\n",
      "tensor([[ 1.9332],\n",
      "        [-0.9333]])\n",
      "tensor([[ 2.1399],\n",
      "        [-1.1400]])\n",
      "tensor([[ 2.3260],\n",
      "        [-1.3260]])\n",
      "tensor([[ 2.4934],\n",
      "        [-1.4934]])\n",
      "tensor([[ 2.6440],\n",
      "        [-1.6440]])\n",
      "tensor([[ 2.7796],\n",
      "        [-1.7796]])\n"
     ]
    }
   ],
   "source": [
    "for epoch in range(epochs):\n",
    "    y_ = x_data.mm(w)\n",
    "    #print(y_)\n",
    "    loss = ((y_ - y_data)**2).mean()/2.0\n",
    "    cost.append(float(loss.data))\n",
    "    loss.backward()\n",
    "    w.data = w.data - rate * w.grad.data\n",
    "    \n",
    "    #print(w.grad.data)\n",
    "    #这一步很关键，必须清零，因为 .grad这个属性值是累加的\n",
    "    w.grad.data.zero_()\n",
    "    print(w.data)"
   ]
  },
  {
   "cell_type": "code",
   "execution_count": 229,
   "metadata": {
    "scrolled": false
   },
   "outputs": [
    {
     "data": {
      "image/png": "[encoded data removed]",
      "text/plain": [
       "<matplotlib.figure.Figure at 0x18552814b00>"
      ]
     },
     "metadata": {},
     "output_type": "display_data"
    }
   ],
   "source": [
    "plt.figure()\n",
    "plt.plot(range(epochs), cost)\n",
    "plt.title(u\"loss change\")\n",
    "plt.show()"
   ]
  },
  {
   "cell_type": "markdown",
   "metadata": {},
   "source": [
    "# task3 PyTorch实现Logistic regression"
   ]
  },
  {
   "cell_type": "markdown",
   "metadata": {},
   "source": [
    "参考[Pytorch实现逻辑回归](https://blog.csdn.net/herosunly/article/details/89130368)"
   ]
  },
  {
   "cell_type": "markdown",
   "metadata": {},
   "source": [
    "## 公式推导"
   ]
  },
  {
   "cell_type": "markdown",
   "metadata": {},
   "source": [
    "$\\hat{y}_{i}=\\frac{1}{1+e^{-\\left(w \\cdot x_{i}+b\\right)}}$"
   ]
  },
  {
   "cell_type": "markdown",
   "metadata": {},
   "source": [
    "极大似然思想\n",
    "\n",
    "$maxL=\\prod_{i=1}^{N} \\hat{y}_{i}^{y_{i}} \\cdot\\left(1-\\hat{y}_{i}\\right)^{\\left(1-{y_{i}}\\right)}$"
   ]
  },
  {
   "cell_type": "markdown",
   "metadata": {},
   "source": [
    "$max\\ln L=\\sum_{i=1}^{N} y_{i} \\ln \\hat{y}_{i}+\\left(1-y_{i}\\right) \\ln \\left(1-\\hat{y}_{i}\\right)$"
   ]
  },
  {
   "cell_type": "markdown",
   "metadata": {},
   "source": [
    "$\\max \\ln L=\\min(-\\ln L)$"
   ]
  },
  {
   "cell_type": "markdown",
   "metadata": {},
   "source": [
    "## 一、PyTorch基础实现代码"
   ]
  },
  {
   "cell_type": "code",
   "execution_count": 40,
   "metadata": {},
   "outputs": [
    {
     "data": {
      "text/plain": [
       "<torch._C.Generator at 0x2200cbac8f0>"
      ]
     },
     "execution_count": 40,
     "metadata": {},
     "output_type": "execute_result"
    }
   ],
   "source": [
    "import torch\n",
    "import random\n",
    "import numpy as np\n",
    "import matplotlib.pyplot as plt\n",
    "\n",
    "seed = 1\n",
    "\n",
    "random.seed(seed)\n",
    "np.random.seed(seed)\n",
    "torch.manual_seed(seed)"
   ]
  },
  {
   "cell_type": "code",
   "execution_count": 27,
   "metadata": {},
   "outputs": [],
   "source": [
    "x_data = Variable(torch.Tensor([[0.1,0.3],[0.2,0.6],[0.2,0.8],[0.4,0.7],[0.4,0.2],[0.6,0.4],[0.6,0.6],[0.8,0.8],[1,0.4]]))\n",
    "y_data = Variable(torch.Tensor([[1],[1],[1],[1],[0],[0],[0],[0],[0]]))"
   ]
  },
  {
   "cell_type": "code",
   "execution_count": 50,
   "metadata": {},
   "outputs": [
    {
     "data": {
      "text/plain": [
       "array([0.1, 0.2, 0.2, 0.4], dtype=float32)"
      ]
     },
     "execution_count": 50,
     "metadata": {},
     "output_type": "execute_result"
    }
   ],
   "source": [
    "x_data.numpy()[:4,0]"
   ]
  },
  {
   "cell_type": "code",
   "execution_count": 46,
   "metadata": {},
   "outputs": [
    {
     "data": {
      "text/plain": [
       "tensor([[0.1000, 0.3000],\n",
       "        [0.2000, 0.6000],\n",
       "        [0.2000, 0.8000],\n",
       "        [0.4000, 0.7000],\n",
       "        [0.4000, 0.2000],\n",
       "        [0.6000, 0.4000],\n",
       "        [0.6000, 0.6000],\n",
       "        [0.8000, 0.8000],\n",
       "        [1.0000, 0.4000]])"
      ]
     },
     "execution_count": 46,
     "metadata": {},
     "output_type": "execute_result"
    }
   ],
   "source": [
    "x_data"
   ]
  },
  {
   "cell_type": "code",
   "execution_count": 29,
   "metadata": {},
   "outputs": [
    {
     "data": {
      "text/plain": [
       "tensor([[1.],\n",
       "        [1.],\n",
       "        [1.],\n",
       "        [1.],\n",
       "        [0.],\n",
       "        [0.],\n",
       "        [0.],\n",
       "        [0.],\n",
       "        [0.]])"
      ]
     },
     "execution_count": 29,
     "metadata": {},
     "output_type": "execute_result"
    }
   ],
   "source": [
    "y_data"
   ]
  },
  {
   "cell_type": "code",
   "execution_count": 95,
   "metadata": {},
   "outputs": [],
   "source": [
    "dim_in = x_data.shape[1] # IN\n",
    "dim_out = 1  # OUT\n",
    "\n",
    "w = torch.randn(dim_in, dim_out, requires_grad=True)     # IN * OUT\n",
    "b = torch.randn(dim_out, requires_grad=True)                  #bias，偏置项\n",
    "\n",
    "eta = 0.1\n",
    "epochs = 10\n",
    "loss_ = []\n",
    "for epoch in range(epochs):\n",
    "    #Forward pass\n",
    "    h = x_data @ w + b                                                    \n",
    "    y_pred = 1 / (1 + torch.exp(-h))                                    #sigmod激活函数\n",
    "\n",
    "    #Loss\n",
    "    loss = -torch.sum(y_data * torch.log(y_pred) + (1 - y_data) * torch.log(1 - y_pred)) \n",
    "    #print('epoch is {}, loss is {}'.format(epoch, loss.item()))\n",
    "    loss_.append(float(loss.data))\n",
    "    loss.backward()\n",
    "\n",
    "    w.data = w.data - eta * w.grad.data\n",
    "    b.data = b.data - eta * b.grad.data\n",
    "    w.grad.data.zero_()\n",
    "    b.grad.data.zero_()"
   ]
  },
  {
   "cell_type": "code",
   "execution_count": 96,
   "metadata": {},
   "outputs": [
    {
     "data": {
      "text/plain": [
       "tensor([[-1.0555],\n",
       "        [-0.5740]], requires_grad=True)"
      ]
     },
     "execution_count": 96,
     "metadata": {},
     "output_type": "execute_result"
    }
   ],
   "source": [
    "w"
   ]
  },
  {
   "cell_type": "code",
   "execution_count": 97,
   "metadata": {},
   "outputs": [
    {
     "data": {
      "text/plain": [
       "tensor([0.5133], requires_grad=True)"
      ]
     },
     "execution_count": 97,
     "metadata": {},
     "output_type": "execute_result"
    }
   ],
   "source": [
    "b"
   ]
  },
  {
   "cell_type": "code",
   "execution_count": 98,
   "metadata": {},
   "outputs": [],
   "source": [
    "line_x = np.arange(10)/10\n",
    "line_y = (-w.data.numpy()[0]*line_x-b.data.numpy()[0])/w.data.numpy()[1]"
   ]
  },
  {
   "cell_type": "code",
   "execution_count": 99,
   "metadata": {},
   "outputs": [
    {
     "data": {
      "image/png": "[encoded data removed]",
      "text/plain": [
       "<matplotlib.figure.Figure at 0x220119a47f0>"
      ]
     },
     "metadata": {},
     "output_type": "display_data"
    }
   ],
   "source": [
    "plt.figure()\n",
    "plt.scatter(x_data.numpy()[:4,0],x_data.numpy()[:4,1] , marker='o', color='red')\n",
    "plt.scatter(x_data.numpy()[4:,0],x_data.numpy()[4:,1] , marker='o', color='blue')\n",
    "plt.plot(line_x,line_y)\n",
    "plt.show()"
   ]
  },
  {
   "cell_type": "code",
   "execution_count": null,
   "metadata": {},
   "outputs": [],
   "source": []
  }
 ],
 "metadata": {
  "kernelspec": {
   "display_name": "Python 3",
   "language": "python",
   "name": "python3"
  },
  "language_info": {
   "codemirror_mode": {
    "name": "ipython",
    "version": 3
   },
   "file_extension": ".py",
   "mimetype": "text/x-python",
   "name": "python",
   "nbconvert_exporter": "python",
   "pygments_lexer": "ipython3",
   "version": "3.6.4"
  }
 },
 "nbformat": 4,
 "nbformat_minor": 2
}
